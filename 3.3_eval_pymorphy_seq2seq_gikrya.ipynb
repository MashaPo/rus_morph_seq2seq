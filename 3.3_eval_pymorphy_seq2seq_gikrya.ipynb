{
 "cells": [
  {
   "cell_type": "code",
   "execution_count": 1,
   "metadata": {},
   "outputs": [
    {
     "name": "stderr",
     "output_type": "stream",
     "text": [
      "c:\\python3.5\\lib\\site-packages\\h5py\\__init__.py:34: FutureWarning: Conversion of the second argument of issubdtype from `float` to `np.floating` is deprecated. In future, it will be treated as `np.float64 == np.dtype(float).type`.\n",
      "  from ._conv import register_converters as _register_converters\n",
      "Using TensorFlow backend.\n"
     ]
    }
   ],
   "source": [
    "from keras.models import Model, model_from_json, load_model\n",
    "from keras.layers import Input, LSTM, Dense\n",
    "from keras.callbacks import ModelCheckpoint\n",
    "import numpy as np\n",
    "import keras\n",
    "from tqdm import tqdm\n",
    "import pandas as pd\n",
    "import pymorphy2"
   ]
  },
  {
   "cell_type": "markdown",
   "metadata": {},
   "source": [
    "### data"
   ]
  },
  {
   "cell_type": "code",
   "execution_count": 2,
   "metadata": {},
   "outputs": [],
   "source": [
    "path_to_rfile = 'data/GIKRYA_texts_new/gikrya_new_train.out'\n",
    "path_to_wfile = 'data/eval/eval_gikrya_train.csv'"
   ]
  },
  {
   "cell_type": "code",
   "execution_count": 6,
   "metadata": {},
   "outputs": [],
   "source": [
    "# для ГИКРЯ\n",
    "data = pd.read_csv(path_to_rfile, encoding='utf-8',sep='\\t',names = ['index','form','lemma','POS','gram'])"
   ]
  },
  {
   "cell_type": "code",
   "execution_count": 7,
   "metadata": {},
   "outputs": [
    {
     "data": {
      "text/plain": [
       "(815884, 5)"
      ]
     },
     "execution_count": 7,
     "metadata": {},
     "output_type": "execute_result"
    }
   ],
   "source": [
    "data.shape"
   ]
  },
  {
   "cell_type": "code",
   "execution_count": 4,
   "metadata": {},
   "outputs": [],
   "source": [
    "data = data.loc[data['POS']=='NOUN']\n",
    "data = data[['lemma','gram','form']]"
   ]
  },
  {
   "cell_type": "code",
   "execution_count": 5,
   "metadata": {},
   "outputs": [],
   "source": [
    "def converter(gram):\n",
    "    grams = gram.split('|')\n",
    "    dc_gram = {}\n",
    "    for gram in grams:\n",
    "        k,v = gram.split('=')\n",
    "        dc_gram[k] = v\n",
    "    tag = ''\n",
    "    if dc_gram['Number'].startswith('S'):\n",
    "        tag += '1'\n",
    "    elif dc_gram['Number'].startswith('P'):\n",
    "        tag += '2'\n",
    "    else: print(gram)\n",
    "    tag += dc_gram['Case'][0]\n",
    "    return tag"
   ]
  },
  {
   "cell_type": "code",
   "execution_count": 6,
   "metadata": {},
   "outputs": [
    {
     "data": {
      "text/plain": [
       "182633"
      ]
     },
     "execution_count": 6,
     "metadata": {},
     "output_type": "execute_result"
    }
   ],
   "source": [
    "for i in range(0,len(data)):\n",
    "    try:\n",
    "        data.iloc[i,1] = converter(data.iloc[i,1])\n",
    "    except Exception as e:\n",
    "        #print(e)\n",
    "        #print(data.iloc[[i]])\n",
    "        data.iloc[[i]] = 0\n",
    "len(data)   "
   ]
  },
  {
   "cell_type": "code",
   "execution_count": 7,
   "metadata": {},
   "outputs": [
    {
     "data": {
      "text/plain": [
       "182633"
      ]
     },
     "execution_count": 7,
     "metadata": {},
     "output_type": "execute_result"
    }
   ],
   "source": [
    "data = data[data.gram != 0]\n",
    "len(data)"
   ]
  },
  {
   "cell_type": "code",
   "execution_count": 8,
   "metadata": {},
   "outputs": [],
   "source": [
    "data['lemma'] = data.apply(lambda row: row['lemma'].lower(), axis=1)"
   ]
  },
  {
   "cell_type": "code",
   "execution_count": 9,
   "metadata": {},
   "outputs": [],
   "source": [
    "data['form'] = data.apply(lambda row: row['form'].lower(), axis=1)"
   ]
  },
  {
   "cell_type": "code",
   "execution_count": 10,
   "metadata": {},
   "outputs": [],
   "source": [
    "data['x'] = data.apply(lambda row: row['lemma'] + row['gram'], axis=1)"
   ]
  },
  {
   "cell_type": "code",
   "execution_count": 85,
   "metadata": {},
   "outputs": [],
   "source": [
    "#data = data[['x','form']]"
   ]
  },
  {
   "cell_type": "markdown",
   "metadata": {},
   "source": [
    "### checking pymorphy"
   ]
  },
  {
   "cell_type": "code",
   "execution_count": 4,
   "metadata": {},
   "outputs": [],
   "source": [
    "morph = pymorphy2.MorphAnalyzer()"
   ]
  },
  {
   "cell_type": "code",
   "execution_count": 63,
   "metadata": {},
   "outputs": [],
   "source": [
    "word = morph.parse('бита')"
   ]
  },
  {
   "cell_type": "code",
   "execution_count": 64,
   "metadata": {},
   "outputs": [
    {
     "data": {
      "text/plain": [
       "[Parse(word='бита', tag=OpencorporaTag('ADJS,Qual femn,sing'), normal_form='битый', score=0.25, methods_stack=((<DictionaryAnalyzer>, 'бита', 4, 28),)),\n",
       " Parse(word='бита', tag=OpencorporaTag('NOUN,inan,masc sing,gent'), normal_form='бит', score=0.25, methods_stack=((<DictionaryAnalyzer>, 'бита', 236, 1),)),\n",
       " Parse(word='бита', tag=OpencorporaTag('NOUN,inan,femn sing,nomn'), normal_form='бита', score=0.25, methods_stack=((<DictionaryAnalyzer>, 'бита', 441, 0),)),\n",
       " Parse(word='бита', tag=OpencorporaTag('PRTS,impf,past,pssv femn,sing'), normal_form='бить', score=0.25, methods_stack=((<DictionaryAnalyzer>, 'бита', 444, 97),))]"
      ]
     },
     "execution_count": 64,
     "metadata": {},
     "output_type": "execute_result"
    }
   ],
   "source": [
    "word"
   ]
  },
  {
   "cell_type": "code",
   "execution_count": 282,
   "metadata": {},
   "outputs": [],
   "source": [
    "#table from seq2seq to pymorphy\n",
    "trans_number = {'1':'sing', '2':'plur'}\n",
    "trans_case = {'N':'nomn','G':'gent','D':'datv','A':'accs','I':'ablt','L':'loct'}"
   ]
  },
  {
   "cell_type": "code",
   "execution_count": 284,
   "metadata": {},
   "outputs": [],
   "source": [
    "lemma = \"миноритарий\"\n",
    "number = 'sing'\n",
    "case = 'ablt'"
   ]
  },
  {
   "cell_type": "code",
   "execution_count": 285,
   "metadata": {},
   "outputs": [],
   "source": [
    "py_lemmas = morph.parse(lemma)\n",
    "py_lemma = '-'\n",
    "for p_lemma in py_lemmas:\n",
    "    if p_lemma.tag.POS == 'NOUN':\n",
    "        py_lemma = p_lemma\n",
    "        break "
   ]
  },
  {
   "cell_type": "code",
   "execution_count": 286,
   "metadata": {},
   "outputs": [
    {
     "data": {
      "text/plain": [
       "Parse(word='миноритарий', tag=OpencorporaTag('NOUN,inan,masc sing,nomn'), normal_form='миноритарий', score=0.5, methods_stack=((<FakeDictionary>, 'миноритарий', 81, 0), (<KnownSuffixAnalyzer>, 'тарий')))"
      ]
     },
     "execution_count": 286,
     "metadata": {},
     "output_type": "execute_result"
    }
   ],
   "source": [
    "py_lemma"
   ]
  },
  {
   "cell_type": "code",
   "execution_count": 287,
   "metadata": {},
   "outputs": [
    {
     "data": {
      "text/plain": [
       "'<FakeDictionary>'"
      ]
     },
     "execution_count": 287,
     "metadata": {},
     "output_type": "execute_result"
    }
   ],
   "source": [
    "py_method = str(py_lemma.methods_stack[0][0])\n",
    "py_method"
   ]
  },
  {
   "cell_type": "code",
   "execution_count": 288,
   "metadata": {
    "scrolled": true
   },
   "outputs": [
    {
     "data": {
      "text/plain": [
       "'миноритарием'"
      ]
     },
     "execution_count": 288,
     "metadata": {},
     "output_type": "execute_result"
    }
   ],
   "source": [
    "prediction = py_lemma.inflect({number, case}).word\n",
    "prediction"
   ]
  },
  {
   "cell_type": "markdown",
   "metadata": {},
   "source": [
    "py_lemma.inflect({number, case})"
   ]
  },
  {
   "cell_type": "code",
   "execution_count": 186,
   "metadata": {},
   "outputs": [
    {
     "data": {
      "text/plain": [
       "'sing'"
      ]
     },
     "execution_count": 186,
     "metadata": {},
     "output_type": "execute_result"
    }
   ],
   "source": [
    "number"
   ]
  },
  {
   "cell_type": "code",
   "execution_count": null,
   "metadata": {},
   "outputs": [],
   "source": []
  },
  {
   "cell_type": "markdown",
   "metadata": {},
   "source": [
    "### checking seq2seq model"
   ]
  },
  {
   "cell_type": "code",
   "execution_count": 245,
   "metadata": {},
   "outputs": [],
   "source": [
    "from model import predict_form, predict_paradigm"
   ]
  },
  {
   "cell_type": "code",
   "execution_count": 246,
   "metadata": {
    "scrolled": false
   },
   "outputs": [
    {
     "name": "stderr",
     "output_type": "stream",
     "text": [
      "c:\\python3.5\\lib\\site-packages\\keras\\models.py:255: UserWarning: No training configuration found in save file: the model was *not* compiled. Compile it manually.\n",
      "  warnings.warn('No training configuration found in save file: '\n"
     ]
    }
   ],
   "source": [
    "enc = load_model('models/encoder_total.h5')\n",
    "dec = load_model('models/decoder_total.h5')"
   ]
  },
  {
   "cell_type": "code",
   "execution_count": 252,
   "metadata": {},
   "outputs": [
    {
     "data": {
      "text/html": [
       "<div>\n",
       "<style>\n",
       "    .dataframe thead tr:only-child th {\n",
       "        text-align: right;\n",
       "    }\n",
       "\n",
       "    .dataframe thead th {\n",
       "        text-align: left;\n",
       "    }\n",
       "\n",
       "    .dataframe tbody tr th {\n",
       "        vertical-align: top;\n",
       "    }\n",
       "</style>\n",
       "<table border=\"1\" class=\"dataframe\">\n",
       "  <thead>\n",
       "    <tr style=\"text-align: right;\">\n",
       "      <th></th>\n",
       "      <th>Singular</th>\n",
       "      <th>Plural</th>\n",
       "    </tr>\n",
       "  </thead>\n",
       "  <tbody>\n",
       "    <tr>\n",
       "      <th>Nom</th>\n",
       "      <td>зашквар</td>\n",
       "      <td>зашквары</td>\n",
       "    </tr>\n",
       "    <tr>\n",
       "      <th>Gen</th>\n",
       "      <td>зашквара</td>\n",
       "      <td>зашкваров</td>\n",
       "    </tr>\n",
       "    <tr>\n",
       "      <th>Dat</th>\n",
       "      <td>зашквару</td>\n",
       "      <td>зашкварам</td>\n",
       "    </tr>\n",
       "    <tr>\n",
       "      <th>Acc</th>\n",
       "      <td>зашквара</td>\n",
       "      <td>зашкваров</td>\n",
       "    </tr>\n",
       "    <tr>\n",
       "      <th>Ins</th>\n",
       "      <td>зашкваром</td>\n",
       "      <td>зашкварами</td>\n",
       "    </tr>\n",
       "    <tr>\n",
       "      <th>Loc</th>\n",
       "      <td>зашкваре</td>\n",
       "      <td>зашкварах</td>\n",
       "    </tr>\n",
       "  </tbody>\n",
       "</table>\n",
       "</div>"
      ],
      "text/plain": [
       "      Singular      Plural\n",
       "Nom    зашквар    зашквары\n",
       "Gen   зашквара   зашкваров\n",
       "Dat   зашквару   зашкварам\n",
       "Acc   зашквара   зашкваров\n",
       "Ins  зашкваром  зашкварами\n",
       "Loc   зашкваре   зашкварах"
      ]
     },
     "execution_count": 252,
     "metadata": {},
     "output_type": "execute_result"
    }
   ],
   "source": [
    "predict_paradigm('зашквар',enc,dec)"
   ]
  },
  {
   "cell_type": "code",
   "execution_count": 12,
   "metadata": {},
   "outputs": [
    {
     "data": {
      "text/html": [
       "<div>\n",
       "<style>\n",
       "    .dataframe thead tr:only-child th {\n",
       "        text-align: right;\n",
       "    }\n",
       "\n",
       "    .dataframe thead th {\n",
       "        text-align: left;\n",
       "    }\n",
       "\n",
       "    .dataframe tbody tr th {\n",
       "        vertical-align: top;\n",
       "    }\n",
       "</style>\n",
       "<table border=\"1\" class=\"dataframe\">\n",
       "  <thead>\n",
       "    <tr style=\"text-align: right;\">\n",
       "      <th></th>\n",
       "      <th>lemma</th>\n",
       "      <th>gram</th>\n",
       "      <th>form</th>\n",
       "      <th>x</th>\n",
       "    </tr>\n",
       "  </thead>\n",
       "  <tbody>\n",
       "    <tr>\n",
       "      <th>143</th>\n",
       "      <td>блок</td>\n",
       "      <td>2G</td>\n",
       "      <td>блоков</td>\n",
       "      <td>блок2G</td>\n",
       "    </tr>\n",
       "  </tbody>\n",
       "</table>\n",
       "</div>"
      ],
      "text/plain": [
       "    lemma gram    form       x\n",
       "143  блок   2G  блоков  блок2G"
      ]
     },
     "execution_count": 12,
     "metadata": {},
     "output_type": "execute_result"
    }
   ],
   "source": [
    "data.iloc[[35]]"
   ]
  },
  {
   "cell_type": "markdown",
   "metadata": {},
   "source": [
    "### looping through data and predicting forms with pymorphy"
   ]
  },
  {
   "cell_type": "code",
   "execution_count": 190,
   "metadata": {},
   "outputs": [
    {
     "name": "stdout",
     "output_type": "stream",
     "text": [
      "Wall time: 1min 5s\n"
     ]
    }
   ],
   "source": [
    "%%time\n",
    "pymorphy_predictions = []\n",
    "pymorphy_eval = []\n",
    "pymorphy_exeptions = []\n",
    "pymorphy_methods = []\n",
    "for row in range(len(data)):\n",
    "    lemma = data.iloc[row,0]\n",
    "    #print(row)\n",
    "    #print(data.iloc[row,1])\n",
    "    number,case = str(data.iloc[row,1])\n",
    "    number = trans_number[number]\n",
    "    case = trans_case[case]\n",
    "    py_lemmas = morph.parse(lemma)\n",
    "    py_lemma = '-'\n",
    "    for p_lemma in py_lemmas:\n",
    "        if p_lemma.tag.POS == 'NOUN':\n",
    "            py_lemma = p_lemma\n",
    "            break \n",
    "    try:\n",
    "        py_method = str(py_lemma.methods_stack[0][0])\n",
    "        prediction = py_lemma.inflect({number, case}).word        \n",
    "    except Exception as e:\n",
    "        pymorphy_exeptions.append((number,case,lemma))\n",
    "        prediction =  '-'\n",
    "        py_method = '-'      \n",
    "        #print('{} {}({})'.format(number,case,lemma))  \n",
    "    pymorphy_methods.append(py_method)\n",
    "    pymorphy_predictions.append(prediction)\n",
    "    true_form = data.iloc[row,2]\n",
    "    if prediction == true_form:\n",
    "        pymorphy_eval.append('True')\n",
    "    else:\n",
    "        pymorphy_eval.append('False')"
   ]
  },
  {
   "cell_type": "code",
   "execution_count": 191,
   "metadata": {},
   "outputs": [],
   "source": [
    "data['pymorphy_predictions'] = pymorphy_predictions\n",
    "data['pymorphy_eval'] = pymorphy_eval\n",
    "data['pymorphy_methods'] = pymorphy_methods"
   ]
  },
  {
   "cell_type": "markdown",
   "metadata": {},
   "source": [
    "### predicting forms with seq2seq"
   ]
  },
  {
   "cell_type": "code",
   "execution_count": 20,
   "metadata": {},
   "outputs": [
    {
     "name": "stderr",
     "output_type": "stream",
     "text": [
      "100%|████████████████████████████████████████████████████████████████████████████████| 100/100 [00:01<00:00, 52.23it/s]\n"
     ]
    },
    {
     "name": "stdout",
     "output_type": "stream",
     "text": [
      "Wall time: 1.92 s\n"
     ]
    }
   ],
   "source": [
    "%%time\n",
    "seq2seq_predictions = []\n",
    "seq2seq_eval = []\n",
    "for row in tqdm(range(len(data))):\n",
    "#for row in tqdm(range(100)):\n",
    "    inp = data.iloc[row,3]\n",
    "    out = predict_form(inp,enc,dec).rstrip()\n",
    "    seq2seq_predictions.append(out)\n",
    "    if out == data.iloc[row,2]:\n",
    "        seq2seq_eval.append('True')\n",
    "    else:\n",
    "        seq2seq_eval.append('False')"
   ]
  },
  {
   "cell_type": "code",
   "execution_count": 23,
   "metadata": {},
   "outputs": [
    {
     "name": "stderr",
     "output_type": "stream",
     "text": [
      "c:\\python3.5\\lib\\site-packages\\ipykernel_launcher.py:1: SettingWithCopyWarning: \n",
      "A value is trying to be set on a copy of a slice from a DataFrame.\n",
      "Try using .loc[row_indexer,col_indexer] = value instead\n",
      "\n",
      "See the caveats in the documentation: http://pandas.pydata.org/pandas-docs/stable/indexing.html#indexing-view-versus-copy\n",
      "  \"\"\"Entry point for launching an IPython kernel.\n",
      "c:\\python3.5\\lib\\site-packages\\ipykernel_launcher.py:2: SettingWithCopyWarning: \n",
      "A value is trying to be set on a copy of a slice from a DataFrame.\n",
      "Try using .loc[row_indexer,col_indexer] = value instead\n",
      "\n",
      "See the caveats in the documentation: http://pandas.pydata.org/pandas-docs/stable/indexing.html#indexing-view-versus-copy\n",
      "  \n"
     ]
    }
   ],
   "source": [
    "data['seq2seq_predictions'] = seq2seq_predictions\n",
    "data['seq2seq_eval'] = seq2seq_eval\n"
   ]
  },
  {
   "cell_type": "code",
   "execution_count": 20,
   "metadata": {},
   "outputs": [],
   "source": [
    "#uploading results from file\n",
    "seq2seq_predictions = open('testing/model_predict_full_letters.txt','r',encoding = 'utf-8').read().split('\\n')\n",
    "data['seq2seq_predictions'] = seq2seq_predictions\n",
    "seq2seq_eval = []\n",
    "for row in range(data.shape[0]):\n",
    "    true_form = data.iloc[row,4]\n",
    "    prediction = data.iloc[row,7]\n",
    "    if prediction == true_form:\n",
    "        seq2seq_eval.append('True')\n",
    "    else:\n",
    "        seq2seq_eval.append('False')\n",
    "data['seq2seq_eval'] = seq2seq_eval      "
   ]
  },
  {
   "cell_type": "code",
   "execution_count": 217,
   "metadata": {},
   "outputs": [],
   "source": [
    "data.to_csv(path_to_wfile, encoding='utf-8',sep='\\t', index=False)\n",
    "#writer = pd.ExcelWriter(path_to_wfile.replace('.csv', '.xlsx'))\n",
    "#data.to_excel(writer,'Sheet1')\n",
    "#writer.save()\n",
    "#для замеров аккуратности без учета \"ошибок\" на неизменяемых, pl.tantum, sg.tantum\n",
    "#data_filtered = data[data.apply(lambda x: not x['classtag'].endswith(('-','+','0')), axis=1)] \n",
    "#data_filtered.to_csv(path_to_wfile_filtered, encoding='utf-8',sep='\\t', index=False)"
   ]
  },
  {
   "cell_type": "code",
   "execution_count": 3,
   "metadata": {},
   "outputs": [],
   "source": [
    "data = pd.read_csv(path_to_wfile, encoding='utf-8',sep='\\t')"
   ]
  },
  {
   "cell_type": "code",
   "execution_count": 4,
   "metadata": {},
   "outputs": [
    {
     "data": {
      "text/plain": [
       "(182633, 9)"
      ]
     },
     "execution_count": 4,
     "metadata": {},
     "output_type": "execute_result"
    }
   ],
   "source": [
    "data.shape"
   ]
  },
  {
   "cell_type": "code",
   "execution_count": null,
   "metadata": {},
   "outputs": [],
   "source": []
  },
  {
   "cell_type": "code",
   "execution_count": 229,
   "metadata": {},
   "outputs": [],
   "source": [
    "data['pymorphy_predictions'] = data['pymorphy_predictions'].apply(lambda x: x.replace(\"ё\",\"е\"))"
   ]
  },
  {
   "cell_type": "code",
   "execution_count": 231,
   "metadata": {},
   "outputs": [],
   "source": [
    "data['seq2seq_predictions'] = data['seq2seq_predictions'].apply(lambda x: x.replace(\"ё\",\"е\"))"
   ]
  },
  {
   "cell_type": "code",
   "execution_count": 5,
   "metadata": {},
   "outputs": [],
   "source": [
    "# не словарные слова для pymorphy\n",
    "data_filtered = data[data.apply(lambda x: x['pymorphy_methods'] != '<DictionaryAnalyzer>', axis=1)]"
   ]
  },
  {
   "cell_type": "code",
   "execution_count": 6,
   "metadata": {},
   "outputs": [
    {
     "data": {
      "text/plain": [
       "2045"
      ]
     },
     "execution_count": 6,
     "metadata": {},
     "output_type": "execute_result"
    }
   ],
   "source": [
    "len(data_filtered)"
   ]
  },
  {
   "cell_type": "code",
   "execution_count": 9,
   "metadata": {},
   "outputs": [
    {
     "data": {
      "text/html": [
       "<div>\n",
       "<style>\n",
       "    .dataframe thead tr:only-child th {\n",
       "        text-align: right;\n",
       "    }\n",
       "\n",
       "    .dataframe thead th {\n",
       "        text-align: left;\n",
       "    }\n",
       "\n",
       "    .dataframe tbody tr th {\n",
       "        vertical-align: top;\n",
       "    }\n",
       "</style>\n",
       "<table border=\"1\" class=\"dataframe\">\n",
       "  <thead>\n",
       "    <tr style=\"text-align: right;\">\n",
       "      <th></th>\n",
       "      <th>lemma</th>\n",
       "      <th>gram</th>\n",
       "      <th>form</th>\n",
       "      <th>x</th>\n",
       "      <th>pymorphy_predictions</th>\n",
       "      <th>pymorphy_eval</th>\n",
       "      <th>seq2seq_predictions</th>\n",
       "      <th>seq2seq_eval</th>\n",
       "      <th>pymorphy_methods</th>\n",
       "    </tr>\n",
       "  </thead>\n",
       "  <tbody>\n",
       "    <tr>\n",
       "      <th>116</th>\n",
       "      <td>65-летие</td>\n",
       "      <td>1D</td>\n",
       "      <td>65-летию</td>\n",
       "      <td>65-летие1D</td>\n",
       "      <td>65-летию</td>\n",
       "      <td>True</td>\n",
       "      <td>-</td>\n",
       "      <td>False</td>\n",
       "      <td>&lt;HyphenatedWordsAnalyzer&gt;</td>\n",
       "    </tr>\n",
       "    <tr>\n",
       "      <th>1314</th>\n",
       "      <td>шварценеггер</td>\n",
       "      <td>1D</td>\n",
       "      <td>шварценеггеру</td>\n",
       "      <td>шварценеггер1D</td>\n",
       "      <td>шварценеггеру</td>\n",
       "      <td>True</td>\n",
       "      <td>шварценгерегу</td>\n",
       "      <td>False</td>\n",
       "      <td>&lt;FakeDictionary&gt;</td>\n",
       "    </tr>\n",
       "    <tr>\n",
       "      <th>2890</th>\n",
       "      <td>мень</td>\n",
       "      <td>1G</td>\n",
       "      <td>меня</td>\n",
       "      <td>мень1G</td>\n",
       "      <td>меня</td>\n",
       "      <td>True</td>\n",
       "      <td>мени</td>\n",
       "      <td>False</td>\n",
       "      <td>&lt;FakeDictionary&gt;</td>\n",
       "    </tr>\n",
       "    <tr>\n",
       "      <th>3451</th>\n",
       "      <td>распадская</td>\n",
       "      <td>1N</td>\n",
       "      <td>распадская</td>\n",
       "      <td>распадская1N</td>\n",
       "      <td>распадская</td>\n",
       "      <td>True</td>\n",
       "      <td>распадсаби</td>\n",
       "      <td>False</td>\n",
       "      <td>&lt;FakeDictionary&gt;</td>\n",
       "    </tr>\n",
       "    <tr>\n",
       "      <th>4203</th>\n",
       "      <td>бандюк</td>\n",
       "      <td>2A</td>\n",
       "      <td>бандюков</td>\n",
       "      <td>бандюк2A</td>\n",
       "      <td>бандюков</td>\n",
       "      <td>True</td>\n",
       "      <td>бандюки</td>\n",
       "      <td>False</td>\n",
       "      <td>&lt;FakeDictionary&gt;</td>\n",
       "    </tr>\n",
       "    <tr>\n",
       "      <th>5860</th>\n",
       "      <td>плей-офф</td>\n",
       "      <td>1L</td>\n",
       "      <td>плей-офф</td>\n",
       "      <td>плей-офф1L</td>\n",
       "      <td>плей-офф</td>\n",
       "      <td>True</td>\n",
       "      <td>плей-оффе</td>\n",
       "      <td>False</td>\n",
       "      <td>&lt;FakeDictionary&gt;</td>\n",
       "    </tr>\n",
       "    <tr>\n",
       "      <th>7105</th>\n",
       "      <td>распадская</td>\n",
       "      <td>1N</td>\n",
       "      <td>распадская</td>\n",
       "      <td>распадская1N</td>\n",
       "      <td>распадская</td>\n",
       "      <td>True</td>\n",
       "      <td>распадсаби</td>\n",
       "      <td>False</td>\n",
       "      <td>&lt;FakeDictionary&gt;</td>\n",
       "    </tr>\n",
       "    <tr>\n",
       "      <th>8201</th>\n",
       "      <td>усть-каменогорск</td>\n",
       "      <td>1A</td>\n",
       "      <td>усть-каменогорск</td>\n",
       "      <td>усть-каменогорск1A</td>\n",
       "      <td>усть-каменогорск</td>\n",
       "      <td>True</td>\n",
       "      <td>усть-каменокормк</td>\n",
       "      <td>False</td>\n",
       "      <td>&lt;HyphenatedWordsAnalyzer&gt;</td>\n",
       "    </tr>\n",
       "    <tr>\n",
       "      <th>14921</th>\n",
       "      <td>фото-рассказ</td>\n",
       "      <td>1N</td>\n",
       "      <td>фото-рассказ</td>\n",
       "      <td>фото-рассказ1N</td>\n",
       "      <td>фото-рассказ</td>\n",
       "      <td>True</td>\n",
       "      <td>фото-рассика</td>\n",
       "      <td>False</td>\n",
       "      <td>&lt;HyphenatedWordsAnalyzer&gt;</td>\n",
       "    </tr>\n",
       "    <tr>\n",
       "      <th>15347</th>\n",
       "      <td>пипец</td>\n",
       "      <td>1A</td>\n",
       "      <td>пипец</td>\n",
       "      <td>пипец1A</td>\n",
       "      <td>пипец</td>\n",
       "      <td>True</td>\n",
       "      <td>пипца</td>\n",
       "      <td>False</td>\n",
       "      <td>&lt;FakeDictionary&gt;</td>\n",
       "    </tr>\n",
       "    <tr>\n",
       "      <th>18184</th>\n",
       "      <td>гей-сообщество</td>\n",
       "      <td>1G</td>\n",
       "      <td>гей-сообщества</td>\n",
       "      <td>гей-сообщество1G</td>\n",
       "      <td>гей-сообщества</td>\n",
       "      <td>True</td>\n",
       "      <td>гейс-ообщества</td>\n",
       "      <td>False</td>\n",
       "      <td>&lt;HyphenatedWordsAnalyzer&gt;</td>\n",
       "    </tr>\n",
       "    <tr>\n",
       "      <th>19533</th>\n",
       "      <td>21-летие</td>\n",
       "      <td>1G</td>\n",
       "      <td>21-летия</td>\n",
       "      <td>21-летие1G</td>\n",
       "      <td>21-летия</td>\n",
       "      <td>True</td>\n",
       "      <td>-</td>\n",
       "      <td>False</td>\n",
       "      <td>&lt;HyphenatedWordsAnalyzer&gt;</td>\n",
       "    </tr>\n",
       "    <tr>\n",
       "      <th>19806</th>\n",
       "      <td>плей-офф</td>\n",
       "      <td>1L</td>\n",
       "      <td>плей-офф</td>\n",
       "      <td>плей-офф1L</td>\n",
       "      <td>плей-офф</td>\n",
       "      <td>True</td>\n",
       "      <td>плей-оффе</td>\n",
       "      <td>False</td>\n",
       "      <td>&lt;FakeDictionary&gt;</td>\n",
       "    </tr>\n",
       "    <tr>\n",
       "      <th>21611</th>\n",
       "      <td>распадская</td>\n",
       "      <td>1N</td>\n",
       "      <td>распадская</td>\n",
       "      <td>распадская1N</td>\n",
       "      <td>распадская</td>\n",
       "      <td>True</td>\n",
       "      <td>распадсаби</td>\n",
       "      <td>False</td>\n",
       "      <td>&lt;FakeDictionary&gt;</td>\n",
       "    </tr>\n",
       "    <tr>\n",
       "      <th>22581</th>\n",
       "      <td>дживс</td>\n",
       "      <td>1G</td>\n",
       "      <td>дживс</td>\n",
       "      <td>дживс1G</td>\n",
       "      <td>дживс</td>\n",
       "      <td>True</td>\n",
       "      <td>дживса</td>\n",
       "      <td>False</td>\n",
       "      <td>&lt;FakeDictionary&gt;</td>\n",
       "    </tr>\n",
       "    <tr>\n",
       "      <th>22844</th>\n",
       "      <td>госпожнадзор</td>\n",
       "      <td>1G</td>\n",
       "      <td>госпожнадзора</td>\n",
       "      <td>госпожнадзор1G</td>\n",
       "      <td>госпожнадзора</td>\n",
       "      <td>True</td>\n",
       "      <td>госпожданзора</td>\n",
       "      <td>False</td>\n",
       "      <td>&lt;FakeDictionary&gt;</td>\n",
       "    </tr>\n",
       "    <tr>\n",
       "      <th>27672</th>\n",
       "      <td>разведдеятельность</td>\n",
       "      <td>1G</td>\n",
       "      <td>разведдеятельности</td>\n",
       "      <td>разведдеятельность1G</td>\n",
       "      <td>разведдеятельности</td>\n",
       "      <td>True</td>\n",
       "      <td>разведредательности</td>\n",
       "      <td>False</td>\n",
       "      <td>&lt;FakeDictionary&gt;</td>\n",
       "    </tr>\n",
       "    <tr>\n",
       "      <th>29232</th>\n",
       "      <td>шварценеггер</td>\n",
       "      <td>1N</td>\n",
       "      <td>шварценеггер</td>\n",
       "      <td>шварценеггер1N</td>\n",
       "      <td>шварценеггер</td>\n",
       "      <td>True</td>\n",
       "      <td>шварценгерег</td>\n",
       "      <td>False</td>\n",
       "      <td>&lt;FakeDictionary&gt;</td>\n",
       "    </tr>\n",
       "    <tr>\n",
       "      <th>29564</th>\n",
       "      <td>распадская</td>\n",
       "      <td>1N</td>\n",
       "      <td>распадская</td>\n",
       "      <td>распадская1N</td>\n",
       "      <td>распадская</td>\n",
       "      <td>True</td>\n",
       "      <td>распадсаби</td>\n",
       "      <td>False</td>\n",
       "      <td>&lt;FakeDictionary&gt;</td>\n",
       "    </tr>\n",
       "    <tr>\n",
       "      <th>31823</th>\n",
       "      <td>лоор</td>\n",
       "      <td>1G</td>\n",
       "      <td>лоора</td>\n",
       "      <td>лоор1G</td>\n",
       "      <td>лоора</td>\n",
       "      <td>True</td>\n",
       "      <td>лоро</td>\n",
       "      <td>False</td>\n",
       "      <td>&lt;FakeDictionary&gt;</td>\n",
       "    </tr>\n",
       "    <tr>\n",
       "      <th>33344</th>\n",
       "      <td>300-летие</td>\n",
       "      <td>1D</td>\n",
       "      <td>300-летию</td>\n",
       "      <td>300-летие1D</td>\n",
       "      <td>300-летию</td>\n",
       "      <td>True</td>\n",
       "      <td>-</td>\n",
       "      <td>False</td>\n",
       "      <td>&lt;HyphenatedWordsAnalyzer&gt;</td>\n",
       "    </tr>\n",
       "    <tr>\n",
       "      <th>35617</th>\n",
       "      <td>мень</td>\n",
       "      <td>1G</td>\n",
       "      <td>меня</td>\n",
       "      <td>мень1G</td>\n",
       "      <td>меня</td>\n",
       "      <td>True</td>\n",
       "      <td>мени</td>\n",
       "      <td>False</td>\n",
       "      <td>&lt;FakeDictionary&gt;</td>\n",
       "    </tr>\n",
       "    <tr>\n",
       "      <th>38764</th>\n",
       "      <td>смартфоно-зависимость</td>\n",
       "      <td>1I</td>\n",
       "      <td>смартфоно-зависимостью</td>\n",
       "      <td>смартфоно-зависимость1I</td>\n",
       "      <td>смартфоно-зависимостью</td>\n",
       "      <td>True</td>\n",
       "      <td>смартон-фозавистойником</td>\n",
       "      <td>False</td>\n",
       "      <td>&lt;HyphenatedWordsAnalyzer&gt;</td>\n",
       "    </tr>\n",
       "    <tr>\n",
       "      <th>42168</th>\n",
       "      <td>долбоёб</td>\n",
       "      <td>2G</td>\n",
       "      <td>долбоёбов</td>\n",
       "      <td>долбоёб2G</td>\n",
       "      <td>долбоёбов</td>\n",
       "      <td>True</td>\n",
       "      <td>долбоётов</td>\n",
       "      <td>False</td>\n",
       "      <td>&lt;FakeDictionary&gt;</td>\n",
       "    </tr>\n",
       "    <tr>\n",
       "      <th>42950</th>\n",
       "      <td>хлеб-соль</td>\n",
       "      <td>1I</td>\n",
       "      <td>хлебом-солью</td>\n",
       "      <td>хлеб-соль1I</td>\n",
       "      <td>хлебом-солью</td>\n",
       "      <td>True</td>\n",
       "      <td>хлеб-солью</td>\n",
       "      <td>False</td>\n",
       "      <td>&lt;HyphenatedWordsAnalyzer&gt;</td>\n",
       "    </tr>\n",
       "    <tr>\n",
       "      <th>43670</th>\n",
       "      <td>алексанян</td>\n",
       "      <td>1A</td>\n",
       "      <td>алексаняна</td>\n",
       "      <td>алексанян1A</td>\n",
       "      <td>алексаняна</td>\n",
       "      <td>True</td>\n",
       "      <td>алексанян</td>\n",
       "      <td>False</td>\n",
       "      <td>&lt;FakeDictionary&gt;</td>\n",
       "    </tr>\n",
       "    <tr>\n",
       "      <th>46059</th>\n",
       "      <td>50-летие</td>\n",
       "      <td>1G</td>\n",
       "      <td>50-летия</td>\n",
       "      <td>50-летие1G</td>\n",
       "      <td>50-летия</td>\n",
       "      <td>True</td>\n",
       "      <td>-</td>\n",
       "      <td>False</td>\n",
       "      <td>&lt;HyphenatedWordsAnalyzer&gt;</td>\n",
       "    </tr>\n",
       "    <tr>\n",
       "      <th>46860</th>\n",
       "      <td>доппельгангер</td>\n",
       "      <td>1N</td>\n",
       "      <td>доппельгангер</td>\n",
       "      <td>доппельгангер1N</td>\n",
       "      <td>доппельгангер</td>\n",
       "      <td>True</td>\n",
       "      <td>доппельгангре</td>\n",
       "      <td>False</td>\n",
       "      <td>&lt;FakeDictionary&gt;</td>\n",
       "    </tr>\n",
       "    <tr>\n",
       "      <th>47124</th>\n",
       "      <td>антимайдановец</td>\n",
       "      <td>2G</td>\n",
       "      <td>антимайдановцев</td>\n",
       "      <td>антимайдановец2G</td>\n",
       "      <td>антимайдановцев</td>\n",
       "      <td>True</td>\n",
       "      <td>антимайдаеновсов</td>\n",
       "      <td>False</td>\n",
       "      <td>&lt;FakeDictionary&gt;</td>\n",
       "    </tr>\n",
       "    <tr>\n",
       "      <th>50113</th>\n",
       "      <td>девятиэтажка</td>\n",
       "      <td>2G</td>\n",
       "      <td>девятиэтажек</td>\n",
       "      <td>девятиэтажка2G</td>\n",
       "      <td>девятиэтажек</td>\n",
       "      <td>True</td>\n",
       "      <td>девятиэтак</td>\n",
       "      <td>False</td>\n",
       "      <td>&lt;FakeDictionary&gt;</td>\n",
       "    </tr>\n",
       "    <tr>\n",
       "      <th>...</th>\n",
       "      <td>...</td>\n",
       "      <td>...</td>\n",
       "      <td>...</td>\n",
       "      <td>...</td>\n",
       "      <td>...</td>\n",
       "      <td>...</td>\n",
       "      <td>...</td>\n",
       "      <td>...</td>\n",
       "      <td>...</td>\n",
       "    </tr>\n",
       "    <tr>\n",
       "      <th>125901</th>\n",
       "      <td>плей-офф</td>\n",
       "      <td>1L</td>\n",
       "      <td>плей-офф</td>\n",
       "      <td>плей-офф1L</td>\n",
       "      <td>плей-офф</td>\n",
       "      <td>True</td>\n",
       "      <td>плей-оффе</td>\n",
       "      <td>False</td>\n",
       "      <td>&lt;FakeDictionary&gt;</td>\n",
       "    </tr>\n",
       "    <tr>\n",
       "      <th>130024</th>\n",
       "      <td>одиннадцатиклассник</td>\n",
       "      <td>2G</td>\n",
       "      <td>одиннадцатиклассников</td>\n",
       "      <td>одиннадцатиклассник2G</td>\n",
       "      <td>одиннадцатиклассников</td>\n",
       "      <td>True</td>\n",
       "      <td>одиннадцалистническов</td>\n",
       "      <td>False</td>\n",
       "      <td>&lt;FakeDictionary&gt;</td>\n",
       "    </tr>\n",
       "    <tr>\n",
       "      <th>130694</th>\n",
       "      <td>150-летие</td>\n",
       "      <td>1D</td>\n",
       "      <td>150-летию</td>\n",
       "      <td>150-летие1D</td>\n",
       "      <td>150-летию</td>\n",
       "      <td>True</td>\n",
       "      <td>-</td>\n",
       "      <td>False</td>\n",
       "      <td>&lt;HyphenatedWordsAnalyzer&gt;</td>\n",
       "    </tr>\n",
       "    <tr>\n",
       "      <th>133626</th>\n",
       "      <td>информструктура</td>\n",
       "      <td>1A</td>\n",
       "      <td>информструктуру</td>\n",
       "      <td>информструктура1A</td>\n",
       "      <td>информструктуру</td>\n",
       "      <td>True</td>\n",
       "      <td>информстуркутру</td>\n",
       "      <td>False</td>\n",
       "      <td>&lt;FakeDictionary&gt;</td>\n",
       "    </tr>\n",
       "    <tr>\n",
       "      <th>134378</th>\n",
       "      <td>сельхозкультура</td>\n",
       "      <td>2G</td>\n",
       "      <td>сельхозкультур</td>\n",
       "      <td>сельхозкультура2G</td>\n",
       "      <td>сельхозкультур</td>\n",
       "      <td>True</td>\n",
       "      <td>сельхокзультук</td>\n",
       "      <td>False</td>\n",
       "      <td>&lt;FakeDictionary&gt;</td>\n",
       "    </tr>\n",
       "    <tr>\n",
       "      <th>135226</th>\n",
       "      <td>50-летие</td>\n",
       "      <td>1A</td>\n",
       "      <td>50-летие</td>\n",
       "      <td>50-летие1A</td>\n",
       "      <td>50-летие</td>\n",
       "      <td>True</td>\n",
       "      <td>-</td>\n",
       "      <td>False</td>\n",
       "      <td>&lt;HyphenatedWordsAnalyzer&gt;</td>\n",
       "    </tr>\n",
       "    <tr>\n",
       "      <th>136226</th>\n",
       "      <td>мень</td>\n",
       "      <td>1G</td>\n",
       "      <td>меня</td>\n",
       "      <td>мень1G</td>\n",
       "      <td>меня</td>\n",
       "      <td>True</td>\n",
       "      <td>мени</td>\n",
       "      <td>False</td>\n",
       "      <td>&lt;FakeDictionary&gt;</td>\n",
       "    </tr>\n",
       "    <tr>\n",
       "      <th>137861</th>\n",
       "      <td>р-спорт</td>\n",
       "      <td>1N</td>\n",
       "      <td>р-спорт</td>\n",
       "      <td>р-спорт1N</td>\n",
       "      <td>р-спорт</td>\n",
       "      <td>True</td>\n",
       "      <td>риспорт</td>\n",
       "      <td>False</td>\n",
       "      <td>&lt;HyphenatedWordsAnalyzer&gt;</td>\n",
       "    </tr>\n",
       "    <tr>\n",
       "      <th>138311</th>\n",
       "      <td>сельхозназначение</td>\n",
       "      <td>1G</td>\n",
       "      <td>сельхозназначения</td>\n",
       "      <td>сельхозназначение1G</td>\n",
       "      <td>сельхозназначения</td>\n",
       "      <td>True</td>\n",
       "      <td>сельхозназченовия</td>\n",
       "      <td>False</td>\n",
       "      <td>&lt;FakeDictionary&gt;</td>\n",
       "    </tr>\n",
       "    <tr>\n",
       "      <th>139242</th>\n",
       "      <td>мень</td>\n",
       "      <td>1G</td>\n",
       "      <td>меня</td>\n",
       "      <td>мень1G</td>\n",
       "      <td>меня</td>\n",
       "      <td>True</td>\n",
       "      <td>мени</td>\n",
       "      <td>False</td>\n",
       "      <td>&lt;FakeDictionary&gt;</td>\n",
       "    </tr>\n",
       "    <tr>\n",
       "      <th>140793</th>\n",
       "      <td>плей-офф</td>\n",
       "      <td>1L</td>\n",
       "      <td>плей-офф</td>\n",
       "      <td>плей-офф1L</td>\n",
       "      <td>плей-офф</td>\n",
       "      <td>True</td>\n",
       "      <td>плей-оффе</td>\n",
       "      <td>False</td>\n",
       "      <td>&lt;FakeDictionary&gt;</td>\n",
       "    </tr>\n",
       "    <tr>\n",
       "      <th>141401</th>\n",
       "      <td>качиньский</td>\n",
       "      <td>1G</td>\n",
       "      <td>качиньского</td>\n",
       "      <td>качиньский1G</td>\n",
       "      <td>качиньского</td>\n",
       "      <td>True</td>\n",
       "      <td>качинськия</td>\n",
       "      <td>False</td>\n",
       "      <td>&lt;FakeDictionary&gt;</td>\n",
       "    </tr>\n",
       "    <tr>\n",
       "      <th>144613</th>\n",
       "      <td>разведдеятельность</td>\n",
       "      <td>1I</td>\n",
       "      <td>разведдеятельностью</td>\n",
       "      <td>разведдеятельность1I</td>\n",
       "      <td>разведдеятельностью</td>\n",
       "      <td>True</td>\n",
       "      <td>разведредательности</td>\n",
       "      <td>False</td>\n",
       "      <td>&lt;FakeDictionary&gt;</td>\n",
       "    </tr>\n",
       "    <tr>\n",
       "      <th>147674</th>\n",
       "      <td>мафиози</td>\n",
       "      <td>2N</td>\n",
       "      <td>мафиози</td>\n",
       "      <td>мафиози2N</td>\n",
       "      <td>мафиози</td>\n",
       "      <td>True</td>\n",
       "      <td>мафизои</td>\n",
       "      <td>False</td>\n",
       "      <td>&lt;FakeDictionary&gt;</td>\n",
       "    </tr>\n",
       "    <tr>\n",
       "      <th>149856</th>\n",
       "      <td>курманбек</td>\n",
       "      <td>1G</td>\n",
       "      <td>курманбека</td>\n",
       "      <td>курманбек1G</td>\n",
       "      <td>курманбека</td>\n",
       "      <td>True</td>\n",
       "      <td>курманбка</td>\n",
       "      <td>False</td>\n",
       "      <td>&lt;FakeDictionary&gt;</td>\n",
       "    </tr>\n",
       "    <tr>\n",
       "      <th>150080</th>\n",
       "      <td>малколм</td>\n",
       "      <td>1N</td>\n",
       "      <td>малколм</td>\n",
       "      <td>малколм1N</td>\n",
       "      <td>малколм</td>\n",
       "      <td>True</td>\n",
       "      <td>малкомл</td>\n",
       "      <td>False</td>\n",
       "      <td>&lt;FakeDictionary&gt;</td>\n",
       "    </tr>\n",
       "    <tr>\n",
       "      <th>152194</th>\n",
       "      <td>разведвзвод</td>\n",
       "      <td>1G</td>\n",
       "      <td>разведвзвода</td>\n",
       "      <td>разведвзвод1G</td>\n",
       "      <td>разведвзвода</td>\n",
       "      <td>True</td>\n",
       "      <td>разведвровда</td>\n",
       "      <td>False</td>\n",
       "      <td>&lt;FakeDictionary&gt;</td>\n",
       "    </tr>\n",
       "    <tr>\n",
       "      <th>155620</th>\n",
       "      <td>дресс-код</td>\n",
       "      <td>1N</td>\n",
       "      <td>дресс-код</td>\n",
       "      <td>дресс-код1N</td>\n",
       "      <td>дресс-код</td>\n",
       "      <td>True</td>\n",
       "      <td>дресс-коде</td>\n",
       "      <td>False</td>\n",
       "      <td>&lt;HyphenatedWordsAnalyzer&gt;</td>\n",
       "    </tr>\n",
       "    <tr>\n",
       "      <th>159655</th>\n",
       "      <td>грушевский</td>\n",
       "      <td>1G</td>\n",
       "      <td>грушевского</td>\n",
       "      <td>грушевский1G</td>\n",
       "      <td>грушевского</td>\n",
       "      <td>True</td>\n",
       "      <td>грушевския</td>\n",
       "      <td>False</td>\n",
       "      <td>&lt;FakeDictionary&gt;</td>\n",
       "    </tr>\n",
       "    <tr>\n",
       "      <th>159808</th>\n",
       "      <td>лоор</td>\n",
       "      <td>1G</td>\n",
       "      <td>лоора</td>\n",
       "      <td>лоор1G</td>\n",
       "      <td>лоора</td>\n",
       "      <td>True</td>\n",
       "      <td>лоро</td>\n",
       "      <td>False</td>\n",
       "      <td>&lt;FakeDictionary&gt;</td>\n",
       "    </tr>\n",
       "    <tr>\n",
       "      <th>161748</th>\n",
       "      <td>облонский</td>\n",
       "      <td>1G</td>\n",
       "      <td>облонского</td>\n",
       "      <td>облонский1G</td>\n",
       "      <td>облонского</td>\n",
       "      <td>True</td>\n",
       "      <td>облонския</td>\n",
       "      <td>False</td>\n",
       "      <td>&lt;FakeDictionary&gt;</td>\n",
       "    </tr>\n",
       "    <tr>\n",
       "      <th>162442</th>\n",
       "      <td>мишенькин</td>\n",
       "      <td>1N</td>\n",
       "      <td>мишенькин</td>\n",
       "      <td>мишенькин1N</td>\n",
       "      <td>мишенькин</td>\n",
       "      <td>True</td>\n",
       "      <td>мишеньник</td>\n",
       "      <td>False</td>\n",
       "      <td>&lt;FakeDictionary&gt;</td>\n",
       "    </tr>\n",
       "    <tr>\n",
       "      <th>163590</th>\n",
       "      <td>мень</td>\n",
       "      <td>1G</td>\n",
       "      <td>меня</td>\n",
       "      <td>мень1G</td>\n",
       "      <td>меня</td>\n",
       "      <td>True</td>\n",
       "      <td>мени</td>\n",
       "      <td>False</td>\n",
       "      <td>&lt;FakeDictionary&gt;</td>\n",
       "    </tr>\n",
       "    <tr>\n",
       "      <th>165464</th>\n",
       "      <td>85-летие</td>\n",
       "      <td>1I</td>\n",
       "      <td>85-летием</td>\n",
       "      <td>85-летие1I</td>\n",
       "      <td>85-летием</td>\n",
       "      <td>True</td>\n",
       "      <td>-</td>\n",
       "      <td>False</td>\n",
       "      <td>&lt;HyphenatedWordsAnalyzer&gt;</td>\n",
       "    </tr>\n",
       "    <tr>\n",
       "      <th>167547</th>\n",
       "      <td>семидесятишестилетие</td>\n",
       "      <td>1G</td>\n",
       "      <td>семидесятишестилетия</td>\n",
       "      <td>семидесятишестилетие1G</td>\n",
       "      <td>семидесятишестилетия</td>\n",
       "      <td>True</td>\n",
       "      <td>семидесятилетичествия</td>\n",
       "      <td>False</td>\n",
       "      <td>&lt;FakeDictionary&gt;</td>\n",
       "    </tr>\n",
       "    <tr>\n",
       "      <th>178683</th>\n",
       "      <td>6-летие</td>\n",
       "      <td>1I</td>\n",
       "      <td>6-летием</td>\n",
       "      <td>6-летие1I</td>\n",
       "      <td>6-летием</td>\n",
       "      <td>True</td>\n",
       "      <td>-</td>\n",
       "      <td>False</td>\n",
       "      <td>&lt;HyphenatedWordsAnalyzer&gt;</td>\n",
       "    </tr>\n",
       "    <tr>\n",
       "      <th>178786</th>\n",
       "      <td>росбизнесконсалтинг</td>\n",
       "      <td>1N</td>\n",
       "      <td>росбизнесконсалтинг</td>\n",
       "      <td>росбизнесконсалтинг1N</td>\n",
       "      <td>росбизнесконсалтинг</td>\n",
       "      <td>True</td>\n",
       "      <td>росбизнесканстольне</td>\n",
       "      <td>False</td>\n",
       "      <td>&lt;FakeDictionary&gt;</td>\n",
       "    </tr>\n",
       "    <tr>\n",
       "      <th>179516</th>\n",
       "      <td>мень</td>\n",
       "      <td>1G</td>\n",
       "      <td>меня</td>\n",
       "      <td>мень1G</td>\n",
       "      <td>меня</td>\n",
       "      <td>True</td>\n",
       "      <td>мени</td>\n",
       "      <td>False</td>\n",
       "      <td>&lt;FakeDictionary&gt;</td>\n",
       "    </tr>\n",
       "    <tr>\n",
       "      <th>180502</th>\n",
       "      <td>разведгруппа</td>\n",
       "      <td>1G</td>\n",
       "      <td>разведгруппы</td>\n",
       "      <td>разведгруппа1G</td>\n",
       "      <td>разведгруппы</td>\n",
       "      <td>True</td>\n",
       "      <td>раздевграплы</td>\n",
       "      <td>False</td>\n",
       "      <td>&lt;FakeDictionary&gt;</td>\n",
       "    </tr>\n",
       "    <tr>\n",
       "      <th>181290</th>\n",
       "      <td>дерибасовская</td>\n",
       "      <td>1D</td>\n",
       "      <td>дерибасовской</td>\n",
       "      <td>дерибасовская1D</td>\n",
       "      <td>дерибасовской</td>\n",
       "      <td>True</td>\n",
       "      <td>дерибасовсаде</td>\n",
       "      <td>False</td>\n",
       "      <td>&lt;FakeDictionary&gt;</td>\n",
       "    </tr>\n",
       "  </tbody>\n",
       "</table>\n",
       "<p>99 rows × 9 columns</p>\n",
       "</div>"
      ],
      "text/plain": [
       "                        lemma gram                    form  \\\n",
       "116                  65-летие   1D                65-летию   \n",
       "1314             шварценеггер   1D           шварценеггеру   \n",
       "2890                     мень   1G                    меня   \n",
       "3451               распадская   1N              распадская   \n",
       "4203                   бандюк   2A                бандюков   \n",
       "5860                 плей-офф   1L                плей-офф   \n",
       "7105               распадская   1N              распадская   \n",
       "8201         усть-каменогорск   1A        усть-каменогорск   \n",
       "14921            фото-рассказ   1N            фото-рассказ   \n",
       "15347                   пипец   1A                   пипец   \n",
       "18184          гей-сообщество   1G          гей-сообщества   \n",
       "19533                21-летие   1G                21-летия   \n",
       "19806                плей-офф   1L                плей-офф   \n",
       "21611              распадская   1N              распадская   \n",
       "22581                   дживс   1G                   дживс   \n",
       "22844            госпожнадзор   1G           госпожнадзора   \n",
       "27672      разведдеятельность   1G      разведдеятельности   \n",
       "29232            шварценеггер   1N            шварценеггер   \n",
       "29564              распадская   1N              распадская   \n",
       "31823                    лоор   1G                   лоора   \n",
       "33344               300-летие   1D               300-летию   \n",
       "35617                    мень   1G                    меня   \n",
       "38764   смартфоно-зависимость   1I  смартфоно-зависимостью   \n",
       "42168                 долбоёб   2G               долбоёбов   \n",
       "42950               хлеб-соль   1I            хлебом-солью   \n",
       "43670               алексанян   1A              алексаняна   \n",
       "46059                50-летие   1G                50-летия   \n",
       "46860           доппельгангер   1N           доппельгангер   \n",
       "47124          антимайдановец   2G         антимайдановцев   \n",
       "50113            девятиэтажка   2G            девятиэтажек   \n",
       "...                       ...  ...                     ...   \n",
       "125901               плей-офф   1L                плей-офф   \n",
       "130024    одиннадцатиклассник   2G   одиннадцатиклассников   \n",
       "130694              150-летие   1D               150-летию   \n",
       "133626        информструктура   1A         информструктуру   \n",
       "134378        сельхозкультура   2G          сельхозкультур   \n",
       "135226               50-летие   1A                50-летие   \n",
       "136226                   мень   1G                    меня   \n",
       "137861                р-спорт   1N                 р-спорт   \n",
       "138311      сельхозназначение   1G       сельхозназначения   \n",
       "139242                   мень   1G                    меня   \n",
       "140793               плей-офф   1L                плей-офф   \n",
       "141401             качиньский   1G             качиньского   \n",
       "144613     разведдеятельность   1I     разведдеятельностью   \n",
       "147674                мафиози   2N                 мафиози   \n",
       "149856              курманбек   1G              курманбека   \n",
       "150080                малколм   1N                 малколм   \n",
       "152194            разведвзвод   1G            разведвзвода   \n",
       "155620              дресс-код   1N               дресс-код   \n",
       "159655             грушевский   1G             грушевского   \n",
       "159808                   лоор   1G                   лоора   \n",
       "161748              облонский   1G              облонского   \n",
       "162442              мишенькин   1N               мишенькин   \n",
       "163590                   мень   1G                    меня   \n",
       "165464               85-летие   1I               85-летием   \n",
       "167547   семидесятишестилетие   1G    семидесятишестилетия   \n",
       "178683                6-летие   1I                6-летием   \n",
       "178786    росбизнесконсалтинг   1N     росбизнесконсалтинг   \n",
       "179516                   мень   1G                    меня   \n",
       "180502           разведгруппа   1G            разведгруппы   \n",
       "181290          дерибасовская   1D           дерибасовской   \n",
       "\n",
       "                              x    pymorphy_predictions  pymorphy_eval  \\\n",
       "116                  65-летие1D                65-летию           True   \n",
       "1314             шварценеггер1D           шварценеггеру           True   \n",
       "2890                     мень1G                    меня           True   \n",
       "3451               распадская1N              распадская           True   \n",
       "4203                   бандюк2A                бандюков           True   \n",
       "5860                 плей-офф1L                плей-офф           True   \n",
       "7105               распадская1N              распадская           True   \n",
       "8201         усть-каменогорск1A        усть-каменогорск           True   \n",
       "14921            фото-рассказ1N            фото-рассказ           True   \n",
       "15347                   пипец1A                   пипец           True   \n",
       "18184          гей-сообщество1G          гей-сообщества           True   \n",
       "19533                21-летие1G                21-летия           True   \n",
       "19806                плей-офф1L                плей-офф           True   \n",
       "21611              распадская1N              распадская           True   \n",
       "22581                   дживс1G                   дживс           True   \n",
       "22844            госпожнадзор1G           госпожнадзора           True   \n",
       "27672      разведдеятельность1G      разведдеятельности           True   \n",
       "29232            шварценеггер1N            шварценеггер           True   \n",
       "29564              распадская1N              распадская           True   \n",
       "31823                    лоор1G                   лоора           True   \n",
       "33344               300-летие1D               300-летию           True   \n",
       "35617                    мень1G                    меня           True   \n",
       "38764   смартфоно-зависимость1I  смартфоно-зависимостью           True   \n",
       "42168                 долбоёб2G               долбоёбов           True   \n",
       "42950               хлеб-соль1I            хлебом-солью           True   \n",
       "43670               алексанян1A              алексаняна           True   \n",
       "46059                50-летие1G                50-летия           True   \n",
       "46860           доппельгангер1N           доппельгангер           True   \n",
       "47124          антимайдановец2G         антимайдановцев           True   \n",
       "50113            девятиэтажка2G            девятиэтажек           True   \n",
       "...                         ...                     ...            ...   \n",
       "125901               плей-офф1L                плей-офф           True   \n",
       "130024    одиннадцатиклассник2G   одиннадцатиклассников           True   \n",
       "130694              150-летие1D               150-летию           True   \n",
       "133626        информструктура1A         информструктуру           True   \n",
       "134378        сельхозкультура2G          сельхозкультур           True   \n",
       "135226               50-летие1A                50-летие           True   \n",
       "136226                   мень1G                    меня           True   \n",
       "137861                р-спорт1N                 р-спорт           True   \n",
       "138311      сельхозназначение1G       сельхозназначения           True   \n",
       "139242                   мень1G                    меня           True   \n",
       "140793               плей-офф1L                плей-офф           True   \n",
       "141401             качиньский1G             качиньского           True   \n",
       "144613     разведдеятельность1I     разведдеятельностью           True   \n",
       "147674                мафиози2N                 мафиози           True   \n",
       "149856              курманбек1G              курманбека           True   \n",
       "150080                малколм1N                 малколм           True   \n",
       "152194            разведвзвод1G            разведвзвода           True   \n",
       "155620              дресс-код1N               дресс-код           True   \n",
       "159655             грушевский1G             грушевского           True   \n",
       "159808                   лоор1G                   лоора           True   \n",
       "161748              облонский1G              облонского           True   \n",
       "162442              мишенькин1N               мишенькин           True   \n",
       "163590                   мень1G                    меня           True   \n",
       "165464               85-летие1I               85-летием           True   \n",
       "167547   семидесятишестилетие1G    семидесятишестилетия           True   \n",
       "178683                6-летие1I                6-летием           True   \n",
       "178786    росбизнесконсалтинг1N     росбизнесконсалтинг           True   \n",
       "179516                   мень1G                    меня           True   \n",
       "180502           разведгруппа1G            разведгруппы           True   \n",
       "181290          дерибасовская1D           дерибасовской           True   \n",
       "\n",
       "            seq2seq_predictions  seq2seq_eval           pymorphy_methods  \n",
       "116                           -         False  <HyphenatedWordsAnalyzer>  \n",
       "1314              шварценгерегу         False           <FakeDictionary>  \n",
       "2890                       мени         False           <FakeDictionary>  \n",
       "3451                 распадсаби         False           <FakeDictionary>  \n",
       "4203                    бандюки         False           <FakeDictionary>  \n",
       "5860                  плей-оффе         False           <FakeDictionary>  \n",
       "7105                 распадсаби         False           <FakeDictionary>  \n",
       "8201           усть-каменокормк         False  <HyphenatedWordsAnalyzer>  \n",
       "14921              фото-рассика         False  <HyphenatedWordsAnalyzer>  \n",
       "15347                     пипца         False           <FakeDictionary>  \n",
       "18184            гейс-ообщества         False  <HyphenatedWordsAnalyzer>  \n",
       "19533                         -         False  <HyphenatedWordsAnalyzer>  \n",
       "19806                 плей-оффе         False           <FakeDictionary>  \n",
       "21611                распадсаби         False           <FakeDictionary>  \n",
       "22581                    дживса         False           <FakeDictionary>  \n",
       "22844             госпожданзора         False           <FakeDictionary>  \n",
       "27672       разведредательности         False           <FakeDictionary>  \n",
       "29232              шварценгерег         False           <FakeDictionary>  \n",
       "29564                распадсаби         False           <FakeDictionary>  \n",
       "31823                      лоро         False           <FakeDictionary>  \n",
       "33344                         -         False  <HyphenatedWordsAnalyzer>  \n",
       "35617                      мени         False           <FakeDictionary>  \n",
       "38764   смартон-фозавистойником         False  <HyphenatedWordsAnalyzer>  \n",
       "42168                 долбоётов         False           <FakeDictionary>  \n",
       "42950                хлеб-солью         False  <HyphenatedWordsAnalyzer>  \n",
       "43670                 алексанян         False           <FakeDictionary>  \n",
       "46059                         -         False  <HyphenatedWordsAnalyzer>  \n",
       "46860             доппельгангре         False           <FakeDictionary>  \n",
       "47124          антимайдаеновсов         False           <FakeDictionary>  \n",
       "50113                девятиэтак         False           <FakeDictionary>  \n",
       "...                         ...           ...                        ...  \n",
       "125901                плей-оффе         False           <FakeDictionary>  \n",
       "130024    одиннадцалистническов         False           <FakeDictionary>  \n",
       "130694                        -         False  <HyphenatedWordsAnalyzer>  \n",
       "133626          информстуркутру         False           <FakeDictionary>  \n",
       "134378           сельхокзультук         False           <FakeDictionary>  \n",
       "135226                        -         False  <HyphenatedWordsAnalyzer>  \n",
       "136226                     мени         False           <FakeDictionary>  \n",
       "137861                  риспорт         False  <HyphenatedWordsAnalyzer>  \n",
       "138311        сельхозназченовия         False           <FakeDictionary>  \n",
       "139242                     мени         False           <FakeDictionary>  \n",
       "140793                плей-оффе         False           <FakeDictionary>  \n",
       "141401               качинськия         False           <FakeDictionary>  \n",
       "144613      разведредательности         False           <FakeDictionary>  \n",
       "147674                  мафизои         False           <FakeDictionary>  \n",
       "149856                курманбка         False           <FakeDictionary>  \n",
       "150080                  малкомл         False           <FakeDictionary>  \n",
       "152194             разведвровда         False           <FakeDictionary>  \n",
       "155620               дресс-коде         False  <HyphenatedWordsAnalyzer>  \n",
       "159655               грушевския         False           <FakeDictionary>  \n",
       "159808                     лоро         False           <FakeDictionary>  \n",
       "161748                облонския         False           <FakeDictionary>  \n",
       "162442                мишеньник         False           <FakeDictionary>  \n",
       "163590                     мени         False           <FakeDictionary>  \n",
       "165464                        -         False  <HyphenatedWordsAnalyzer>  \n",
       "167547    семидесятилетичествия         False           <FakeDictionary>  \n",
       "178683                        -         False  <HyphenatedWordsAnalyzer>  \n",
       "178786      росбизнесканстольне         False           <FakeDictionary>  \n",
       "179516                     мени         False           <FakeDictionary>  \n",
       "180502             раздевграплы         False           <FakeDictionary>  \n",
       "181290            дерибасовсаде         False           <FakeDictionary>  \n",
       "\n",
       "[99 rows x 9 columns]"
      ]
     },
     "execution_count": 9,
     "metadata": {},
     "output_type": "execute_result"
    }
   ],
   "source": [
    "data_filtered[(data_filtered['pymorphy_eval'] == True) & (data_filtered['seq2seq_eval'] == False)]"
   ]
  },
  {
   "cell_type": "code",
   "execution_count": 235,
   "metadata": {},
   "outputs": [
    {
     "data": {
      "text/plain": [
       "1020"
      ]
     },
     "execution_count": 235,
     "metadata": {},
     "output_type": "execute_result"
    }
   ],
   "source": [
    "len(data_filtered[(data_filtered['seq2seq_eval'] == True)])"
   ]
  },
  {
   "cell_type": "markdown",
   "metadata": {},
   "source": [
    "### accuracy"
   ]
  },
  {
   "cell_type": "code",
   "execution_count": 236,
   "metadata": {},
   "outputs": [],
   "source": [
    "def accuracy(model,data):\n",
    "    column = model + '_eval'\n",
    "    eval_ = data[column]\n",
    "    value_counts =  eval_.value_counts()\n",
    "    print(value_counts)\n",
    "    print((len(eval_)))\n",
    "    acc = value_counts[True]/(len(eval_))\n",
    "    acc = round(acc,4)\n",
    "    print('for model {}:'.format(model))\n",
    "    print('False:', value_counts[False])\n",
    "    print('True:', value_counts[True])\n",
    "    print('accuracy:',acc)"
   ]
  },
  {
   "cell_type": "code",
   "execution_count": 237,
   "metadata": {},
   "outputs": [
    {
     "name": "stdout",
     "output_type": "stream",
     "text": [
      "True     167119\n",
      "False     15514\n",
      "Name: seq2seq_eval, dtype: int64\n",
      "182633\n",
      "for model seq2seq:\n",
      "False: 15514\n",
      "True: 167119\n",
      "accuracy: 0.9151\n"
     ]
    }
   ],
   "source": [
    "accuracy('seq2seq', data)"
   ]
  },
  {
   "cell_type": "code",
   "execution_count": 238,
   "metadata": {},
   "outputs": [
    {
     "name": "stdout",
     "output_type": "stream",
     "text": [
      "True     171697\n",
      "False     10936\n",
      "Name: pymorphy_eval, dtype: int64\n",
      "182633\n",
      "for model pymorphy:\n",
      "False: 10936\n",
      "True: 171697\n",
      "accuracy: 0.9401\n"
     ]
    }
   ],
   "source": [
    "accuracy('pymorphy', data)"
   ]
  },
  {
   "cell_type": "code",
   "execution_count": 239,
   "metadata": {
    "scrolled": true
   },
   "outputs": [
    {
     "name": "stdout",
     "output_type": "stream",
     "text": [
      "False    1025\n",
      "True     1020\n",
      "Name: seq2seq_eval, dtype: int64\n",
      "2045\n",
      "for model seq2seq:\n",
      "False: 1025\n",
      "True: 1020\n",
      "accuracy: 0.4988\n"
     ]
    }
   ],
   "source": [
    "accuracy('seq2seq', data_filtered)"
   ]
  },
  {
   "cell_type": "code",
   "execution_count": 240,
   "metadata": {
    "scrolled": true
   },
   "outputs": [
    {
     "name": "stdout",
     "output_type": "stream",
     "text": [
      "False    1437\n",
      "True      608\n",
      "Name: pymorphy_eval, dtype: int64\n",
      "2045\n",
      "for model pymorphy:\n",
      "False: 1437\n",
      "True: 608\n",
      "accuracy: 0.2973\n"
     ]
    }
   ],
   "source": [
    "accuracy('pymorphy', data_filtered)"
   ]
  },
  {
   "cell_type": "code",
   "execution_count": null,
   "metadata": {},
   "outputs": [],
   "source": []
  }
 ],
 "metadata": {
  "kernelspec": {
   "display_name": "Python 3",
   "language": "python",
   "name": "python3"
  },
  "language_info": {
   "codemirror_mode": {
    "name": "ipython",
    "version": 3
   },
   "file_extension": ".py",
   "mimetype": "text/x-python",
   "name": "python",
   "nbconvert_exporter": "python",
   "pygments_lexer": "ipython3",
   "version": "3.5.0"
  }
 },
 "nbformat": 4,
 "nbformat_minor": 2
}
