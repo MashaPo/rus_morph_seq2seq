{
 "cells": [
  {
   "cell_type": "code",
   "execution_count": 1,
   "metadata": {},
   "outputs": [],
   "source": [
    "import re\n",
    "from tqdm import tqdm\n",
    "import numpy as npd\n",
    "import pandas as pd\n",
    "from math import ceil"
   ]
  },
  {
   "cell_type": "code",
   "execution_count": 2,
   "metadata": {},
   "outputs": [],
   "source": [
    "DF = pd.read_csv('data/data_lower.csv', sep='\\t', encoding = 'utf-8')"
   ]
  },
  {
   "cell_type": "code",
   "execution_count": 3,
   "metadata": {},
   "outputs": [
    {
     "name": "stdout",
     "output_type": "stream",
     "text": [
      "всего классов 433\n",
      "  classtag  total_count\n",
      "0      м1а         7647\n",
      "1      ж8а         3747\n",
      "2      с7а         3625\n",
      "3     ж3*а         3606\n",
      "4     мо1а         2891\n"
     ]
    }
   ],
   "source": [
    "#создадим список классов по частотности\n",
    "df_classes = DF[['classtag']].copy()\n",
    "df_classes['total_count'] = [1] * df_classes.shape[0]\n",
    "df_classes = df_classes.groupby(['classtag'], sort=True).aggregate(sum) #создаем таблицу класс * количество парадигм\n",
    "df_classes = df_classes.sort_values(by=['total_count'], ascending=False) #сортируем от большего к меньшему\n",
    "df_classes = df_classes.reset_index(level=['classtag'])\n",
    "cl_list = list(df_classes['classtag']) # сам список классов по убыванию\n",
    "print('всего классов',df_classes.shape[0])\n",
    "print(df_classes[:5])\n"
   ]
  },
  {
   "cell_type": "code",
   "execution_count": 4,
   "metadata": {},
   "outputs": [
    {
     "name": "stdout",
     "output_type": "stream",
     "text": [
      "классов, в которых не больше 4 слов: 248\n",
      "парадигм в этих классах: 443\n"
     ]
    }
   ],
   "source": [
    "tail_df = df_classes.loc[df_classes['total_count'] <= 4] # \"хвост\" из маленьких классов, который просто выучим\n",
    "print('классов, в которых не больше 4 слов:', tail_df.loc[tail_df['total_count'] <= 4].shape[0])\n",
    "print('парадигм в этих классах:', tail_df['total_count'].sum())\n"
   ]
  },
  {
   "cell_type": "code",
   "execution_count": 5,
   "metadata": {},
   "outputs": [],
   "source": [
    "# short format to long format\n",
    "def short_to_long(df):\n",
    "    print('\\n')\n",
    "    print('short format dataframe with {} lemmas'.format(df.shape[0]))\n",
    "    #print(df.iloc[0:5,0:5])\n",
    "    df_long = pd.wide_to_long(df, stubnames = 'form', i = ['lemma','gender'], j = 'formtag')\n",
    "    df_long = df_long.sample(frac=1, random_state=15) #перемешиваем строки\n",
    "    print('made long format dataframe with {} wordforms'.format(df_long.shape[0]))\n",
    "    #print(df_long[:5])\n",
    "    return df_long"
   ]
  },
  {
   "cell_type": "code",
   "execution_count": 13,
   "metadata": {},
   "outputs": [],
   "source": [
    "# train test split \n",
    "def train_and_test(classes):\n",
    "    dataset = list(zip([], [], [], [], [], [], [], [], [], [], [], [], [], [], []))\n",
    "    train = pd.DataFrame(data=dataset, columns=['lemma', 'gender', 'classtag',  \n",
    "                                                \"form1N\",\"form1G\",\"form1D\",\"form1A\",\"form1I\",\"form1L\",\n",
    "                                                \"form2N\",\"form2G\",\"form2D\",\"form2A\",\"form2I\",\"form2L\"])\n",
    "    test = train.copy()\n",
    "    for classtag in classes:\n",
    "        #print('класс:', classtag)\n",
    "        paradigms = DF.loc[DF['classtag'] == classtag]\n",
    "        paradigms = paradigms.sample(frac=1, random_state=12345) #перемешиваем строки\n",
    "        n = paradigms.shape[0]\n",
    "        #print('всего парадигм:', n)\n",
    "        n_train = ceil(n*0.75)\n",
    "        train_df,test_df = paradigms[:n_train], paradigms[n_train:]\n",
    "        #print('train: + {} парадигм'.format(train_df.shape[0]))\n",
    "        train = train.append(train_df)\n",
    "        #print('test: + {} парадигм\\n'.format(test_df.shape[0]))\n",
    "        test = test.append(test_df)\n",
    "    train = short_to_long(train)\n",
    "    test = short_to_long(test)\n",
    "    return train,test\n",
    "            "
   ]
  },
  {
   "cell_type": "markdown",
   "metadata": {},
   "source": [
    "### создаем 2 файла для первого эксперимента: train_full.csv (3/4 от всех классов), test_full.csv для обучения самой полной модели, которую сравним с pymorphy2"
   ]
  },
  {
   "cell_type": "code",
   "execution_count": 14,
   "metadata": {
    "scrolled": false
   },
   "outputs": [
    {
     "name": "stdout",
     "output_type": "stream",
     "text": [
      "\n",
      "\n",
      "short format dataframe with 35192 lemmas\n",
      "made long format dataframe with 422304 wordforms\n",
      "\n",
      "\n",
      "short format dataframe with 11528 lemmas\n",
      "made long format dataframe with 138336 wordforms\n",
      "Wall time: 16.7 s\n"
     ]
    }
   ],
   "source": [
    "%%time\n",
    "#для каждого класса делим парадигмы на 0.75 трейн и 0.25 тест (классы из хвоста все уходят в трейн)\n",
    "train, test = train_and_test(cl_list)\n",
    "test.to_csv('data/test/test_full.csv', sep='\\t', encoding = 'utf-8')\n",
    "train.to_csv('data/train/train_full.csv', sep='\\t', encoding = 'utf-8')\n"
   ]
  },
  {
   "cell_type": "code",
   "execution_count": 15,
   "metadata": {},
   "outputs": [
    {
     "data": {
      "text/html": [
       "<div>\n",
       "<style>\n",
       "    .dataframe thead tr:only-child th {\n",
       "        text-align: right;\n",
       "    }\n",
       "\n",
       "    .dataframe thead th {\n",
       "        text-align: left;\n",
       "    }\n",
       "\n",
       "    .dataframe tbody tr th {\n",
       "        vertical-align: top;\n",
       "    }\n",
       "</style>\n",
       "<table border=\"1\" class=\"dataframe\">\n",
       "  <thead>\n",
       "    <tr style=\"text-align: right;\">\n",
       "      <th></th>\n",
       "      <th></th>\n",
       "      <th></th>\n",
       "      <th>classtag</th>\n",
       "      <th>form</th>\n",
       "    </tr>\n",
       "    <tr>\n",
       "      <th>lemma</th>\n",
       "      <th>gender</th>\n",
       "      <th>formtag</th>\n",
       "      <th></th>\n",
       "      <th></th>\n",
       "    </tr>\n",
       "  </thead>\n",
       "  <tbody>\n",
       "    <tr>\n",
       "      <th>високос</th>\n",
       "      <th>м</th>\n",
       "      <th>2N</th>\n",
       "      <td>м1а</td>\n",
       "      <td>високосы</td>\n",
       "    </tr>\n",
       "    <tr>\n",
       "      <th>зимовщик</th>\n",
       "      <th>мо</th>\n",
       "      <th>2N</th>\n",
       "      <td>мо3а</td>\n",
       "      <td>зимовщики</td>\n",
       "    </tr>\n",
       "    <tr>\n",
       "      <th>бензель</th>\n",
       "      <th>м</th>\n",
       "      <th>1D</th>\n",
       "      <td>м2а</td>\n",
       "      <td>бензелю</td>\n",
       "    </tr>\n",
       "  </tbody>\n",
       "</table>\n",
       "</div>"
      ],
      "text/plain": [
       "                        classtag       form\n",
       "lemma    gender formtag                    \n",
       "високос  м      2N           м1а   високосы\n",
       "зимовщик мо     2N          мо3а  зимовщики\n",
       "бензель  м      1D           м2а    бензелю"
      ]
     },
     "execution_count": 15,
     "metadata": {},
     "output_type": "execute_result"
    }
   ],
   "source": [
    "train[:3]"
   ]
  },
  {
   "cell_type": "markdown",
   "metadata": {},
   "source": [
    "### создаем 1 train файл и 2 test файла для второго эксперимента: train_top, test_top.csv, test_tail.csv для итеративного тестирования моделей при уменьшении обучающей выборки\n"
   ]
  },
  {
   "cell_type": "code",
   "execution_count": 18,
   "metadata": {},
   "outputs": [
    {
     "data": {
      "text/html": [
       "<div>\n",
       "<style>\n",
       "    .dataframe thead tr:only-child th {\n",
       "        text-align: right;\n",
       "    }\n",
       "\n",
       "    .dataframe thead th {\n",
       "        text-align: left;\n",
       "    }\n",
       "\n",
       "    .dataframe tbody tr th {\n",
       "        vertical-align: top;\n",
       "    }\n",
       "</style>\n",
       "<table border=\"1\" class=\"dataframe\">\n",
       "  <thead>\n",
       "    <tr style=\"text-align: right;\">\n",
       "      <th></th>\n",
       "      <th>classtag</th>\n",
       "      <th>total_count</th>\n",
       "    </tr>\n",
       "  </thead>\n",
       "  <tbody>\n",
       "    <tr>\n",
       "      <th>15</th>\n",
       "      <td>м2а</td>\n",
       "      <td>478</td>\n",
       "    </tr>\n",
       "    <tr>\n",
       "      <th>16</th>\n",
       "      <td>м1а-</td>\n",
       "      <td>452</td>\n",
       "    </tr>\n",
       "    <tr>\n",
       "      <th>17</th>\n",
       "      <td>с0</td>\n",
       "      <td>445</td>\n",
       "    </tr>\n",
       "  </tbody>\n",
       "</table>\n",
       "</div>"
      ],
      "text/plain": [
       "   classtag  total_count\n",
       "15      м2а          478\n",
       "16     м1а-          452\n",
       "17       с0          445"
      ]
     },
     "execution_count": 18,
     "metadata": {},
     "output_type": "execute_result"
    }
   ],
   "source": [
    "df_classes[15:18]"
   ]
  },
  {
   "cell_type": "code",
   "execution_count": 20,
   "metadata": {},
   "outputs": [],
   "source": [
    "#выбрасываем неизменяемые, pluralia tantum и singularia tantum, берем только классы, где не меньше 100 парадигм\n",
    "df_classes_filtered = df_classes[df_classes.apply(lambda x: not x['classtag'].endswith(('-','+','0')), axis=1)]"
   ]
  },
  {
   "cell_type": "code",
   "execution_count": 21,
   "metadata": {},
   "outputs": [],
   "source": [
    "df_classes_filtered_top = df_classes_filtered.loc[df_classes['total_count'] >= 100]\n",
    "cl_list_filtered_top = list(df_classes_filtered_top['classtag']) # 36 классов\n",
    "df_classes_filtered_tail = df_classes_filtered.loc[df_classes['total_count'] < 100]\n",
    "cl_list_filtered_tail = list(df_classes_filtered_tail['classtag'])"
   ]
  },
  {
   "cell_type": "code",
   "execution_count": 22,
   "metadata": {
    "scrolled": true
   },
   "outputs": [
    {
     "name": "stdout",
     "output_type": "stream",
     "text": [
      "\n",
      "\n",
      "short format dataframe with 30097 lemmas\n",
      "made long format dataframe with 361164 wordforms\n",
      "\n",
      "\n",
      "short format dataframe with 10011 lemmas\n",
      "made long format dataframe with 120132 wordforms\n",
      "Wall time: 3.5 s\n"
     ]
    }
   ],
   "source": [
    "%%time\n",
    "#для первых 36 классов делим парадигмы на 0.75 трейн и 0.25 тест, остальные классы модель не видит\n",
    "train_top, test_top = train_and_test(cl_list_filtered_top)"
   ]
  },
  {
   "cell_type": "code",
   "execution_count": 23,
   "metadata": {},
   "outputs": [],
   "source": [
    "train_top.to_csv('data/train/train_top.csv', sep='\\t', encoding = 'utf-8')\n",
    "test_top.to_csv('data/test/test_top.csv', sep='\\t', encoding = 'utf-8')"
   ]
  },
  {
   "cell_type": "code",
   "execution_count": 24,
   "metadata": {
    "scrolled": true
   },
   "outputs": [
    {
     "name": "stdout",
     "output_type": "stream",
     "text": [
      "\n",
      "\n",
      "short format dataframe with 2386 lemmas\n",
      "made long format dataframe with 57264 wordforms\n"
     ]
    }
   ],
   "source": [
    "#дополнительный тестовый файл с классами, не вошедшими в трейн test_tail.csv\n",
    "dataset = list(zip([], [], [], [], [], [], [], [], [], [], [], [], [], [], []))\n",
    "test_tail = pd.DataFrame(data=dataset, columns=['lemma', 'gender', 'classtag', 'form11', 'form12',\n",
    "                                       'form13', 'form14','form15', 'form16', 'form21', \n",
    "                                       'form22', 'form23', 'form24', 'form25','form26'])\n",
    "for classtag in cl_list_filtered_tail:\n",
    "    #print('класс:', classtag)\n",
    "    paradigms = DF.loc[DF['classtag'] == classtag]\n",
    "    test_tail = test_tail.append(paradigms)\n",
    "test_tail = short_to_long(test_tail)\n",
    "test_tail.to_csv('data/test/test_tail.csv', sep='\\t', encoding = 'utf-8')"
   ]
  },
  {
   "cell_type": "markdown",
   "metadata": {},
   "source": [
    "### альтернатива для первого эксперимента. создаем 2 файла : train_full_wordforms.csv (3/4 от всех классов), test_full_wordforms.csv, определяя в тест и трейн каждую словоформу по отдельности. Для обучения самой полной модели, которую сравним с pymorphy2"
   ]
  },
  {
   "cell_type": "code",
   "execution_count": 25,
   "metadata": {},
   "outputs": [],
   "source": [
    "# train test split \n",
    "def train_and_test_wordforms(classes):\n",
    "    dataset = list(zip([], [], [], [], []))\n",
    "    train = pd.DataFrame(data=dataset, columns=['lemma', 'gender', 'formtag', 'classtag', 'form'])\n",
    "    test = train.copy()\n",
    "    wordforms_long  = short_to_long(DF)\n",
    "    wordforms_long = wordforms_long.reset_index(level=['lemma','gender','formtag'])\n",
    "    for classtag in classes:\n",
    "        #print('класс:', classtag)\n",
    "        wordforms = wordforms_long.loc[wordforms_long['classtag'] == classtag]\n",
    "        wordforms = wordforms.sample(frac=1, random_state=12345) #перемешиваем строки\n",
    "        n = wordforms.shape[0]\n",
    "        #print('всего словоформ:', n)\n",
    "        n_train = ceil(n*0.75)\n",
    "        #n_train = (ceil((n/12)*0.75))*12 если хотим, чтобы классы с <= 4 парадигмами полностью уходили в трейн\n",
    "        train_df,test_df = wordforms[:n_train], wordforms[n_train:]\n",
    "        #print('train: + {} словоформ'.format(train_df.shape[0]))\n",
    "        train = train.append(train_df)\n",
    "        #print('test: + {} словоформ\\n'.format(test_df.shape[0]))\n",
    "        test = test.append(test_df)\n",
    "    return train,test\n",
    "            "
   ]
  },
  {
   "cell_type": "code",
   "execution_count": 26,
   "metadata": {
    "scrolled": true
   },
   "outputs": [
    {
     "name": "stdout",
     "output_type": "stream",
     "text": [
      "\n",
      "\n",
      "short format dataframe with 46720 lemmas\n",
      "made long format dataframe with 560640 wordforms\n",
      "        lemma gender formtag classtag        form\n",
      "0   календарь      м      2D      м2в  календарям\n",
      "1  никонианин     мо      2L   мо1**а  никонианах\n",
      "Wall time: 58.7 s\n"
     ]
    }
   ],
   "source": [
    "%%time\n",
    "#для каждого класса делим словоформы на 0.75 трейн и 0.25 тест (классы из хвоста все уходят в трейн)\n",
    "train, test = train_and_test_wordforms(cl_list)\n",
    "test.to_csv('data/test/test_full_wordforms.csv', sep='\\t', encoding = 'utf-8', index = False)\n",
    "train.to_csv('data/train/train_full_wordforms.csv', sep='\\t', encoding = 'utf-8',  index = False)\n"
   ]
  },
  {
   "cell_type": "code",
   "execution_count": 27,
   "metadata": {},
   "outputs": [
    {
     "data": {
      "text/html": [
       "<div>\n",
       "<style>\n",
       "    .dataframe thead tr:only-child th {\n",
       "        text-align: right;\n",
       "    }\n",
       "\n",
       "    .dataframe thead th {\n",
       "        text-align: left;\n",
       "    }\n",
       "\n",
       "    .dataframe tbody tr th {\n",
       "        vertical-align: top;\n",
       "    }\n",
       "</style>\n",
       "<table border=\"1\" class=\"dataframe\">\n",
       "  <thead>\n",
       "    <tr style=\"text-align: right;\">\n",
       "      <th></th>\n",
       "      <th>lemma</th>\n",
       "      <th>gender</th>\n",
       "      <th>formtag</th>\n",
       "      <th>classtag</th>\n",
       "      <th>form</th>\n",
       "    </tr>\n",
       "  </thead>\n",
       "  <tbody>\n",
       "    <tr>\n",
       "      <th>159924</th>\n",
       "      <td>каинит</td>\n",
       "      <td>м</td>\n",
       "      <td>2N</td>\n",
       "      <td>м1а</td>\n",
       "      <td>каиниты</td>\n",
       "    </tr>\n",
       "    <tr>\n",
       "      <th>530935</th>\n",
       "      <td>гигрограф</td>\n",
       "      <td>м</td>\n",
       "      <td>2L</td>\n",
       "      <td>м1а</td>\n",
       "      <td>гигрографах</td>\n",
       "    </tr>\n",
       "    <tr>\n",
       "      <th>31669</th>\n",
       "      <td>фиксатуар</td>\n",
       "      <td>м</td>\n",
       "      <td>1D</td>\n",
       "      <td>м1а</td>\n",
       "      <td>фиксатуару</td>\n",
       "    </tr>\n",
       "    <tr>\n",
       "      <th>267882</th>\n",
       "      <td>сельсин</td>\n",
       "      <td>м</td>\n",
       "      <td>1D</td>\n",
       "      <td>м1а</td>\n",
       "      <td>сельсину</td>\n",
       "    </tr>\n",
       "    <tr>\n",
       "      <th>474158</th>\n",
       "      <td>радон</td>\n",
       "      <td>м</td>\n",
       "      <td>1I</td>\n",
       "      <td>м1а</td>\n",
       "      <td>радоном</td>\n",
       "    </tr>\n",
       "  </tbody>\n",
       "</table>\n",
       "</div>"
      ],
      "text/plain": [
       "            lemma gender formtag classtag         form\n",
       "159924     каинит      м      2N      м1а      каиниты\n",
       "530935  гигрограф      м      2L      м1а  гигрографах\n",
       "31669   фиксатуар      м      1D      м1а   фиксатуару\n",
       "267882    сельсин      м      1D      м1а     сельсину\n",
       "474158      радон      м      1I      м1а      радоном"
      ]
     },
     "execution_count": 27,
     "metadata": {},
     "output_type": "execute_result"
    }
   ],
   "source": [
    "test[:5]"
   ]
  },
  {
   "cell_type": "code",
   "execution_count": null,
   "metadata": {},
   "outputs": [],
   "source": []
  }
 ],
 "metadata": {
  "kernelspec": {
   "display_name": "Python 3",
   "language": "python",
   "name": "python3"
  },
  "language_info": {
   "codemirror_mode": {
    "name": "ipython",
    "version": 3
   },
   "file_extension": ".py",
   "mimetype": "text/x-python",
   "name": "python",
   "nbconvert_exporter": "python",
   "pygments_lexer": "ipython3",
   "version": "3.5.0"
  }
 },
 "nbformat": 4,
 "nbformat_minor": 2
}
