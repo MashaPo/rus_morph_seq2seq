{
 "cells": [
  {
   "cell_type": "code",
   "execution_count": 1,
   "metadata": {},
   "outputs": [],
   "source": [
    "import re\n",
    "from tqdm import tqdm\n",
    "import numpy as npd\n",
    "import pandas as pd"
   ]
  },
  {
   "cell_type": "code",
   "execution_count": 2,
   "metadata": {},
   "outputs": [],
   "source": [
    "# тренируемся на input: лемма+тег output: словоформа, запоминая к какому классу(и роду) относится лемма "
   ]
  },
  {
   "cell_type": "markdown",
   "metadata": {},
   "source": [
    "### вычитываем парадигмы"
   ]
  },
  {
   "cell_type": "code",
   "execution_count": 2,
   "metadata": {
    "scrolled": true
   },
   "outputs": [
    {
     "name": "stdout",
     "output_type": "stream",
     "text": [
      "Wall time: 1min 5s\n"
     ]
    }
   ],
   "source": [
    "%%time\n",
    "indices = [0,2,3,4,5,6,8,9,10,11,12,13]  # интересующие столбцы в /odict.csv, 7,14,15 - 2locSg,2LocPl,2InsSg для F 'рукою'\n",
    "sgNom,sgGen,sgDat,sgAcc,sgIns,sgLoc,plNom,plGen,plDat,plAcc,plIns,plLoc = [],[],[],[],[],[],[],[],[],[],[],[]\n",
    "lemma = []\n",
    "gender = []\n",
    "paradigms = [lemma,gender,sgNom,sgGen,sgDat,sgAcc,sgIns,sgLoc,plNom,plGen,plDat,plAcc,plIns,plLoc]\n",
    "noparadigm_file =  open('C:/hse_compling/diploma/data/odict/add_odict.csv', 'w', encoding = 'utf-8')\n",
    "#pltnt_file =  open('C:/hse_compling/diploma/data/odict/add_odict_pltnt.csv', 'w', encoding = 'utf-8')\n",
    "#sgtnt_file = open('C:/hse_compling/diploma/data/odict/add_odict_sgtnt.csv', 'w', encoding = 'utf-8')\n",
    "with open('C:/hse_compling/diploma/data/odict/odict.csv', 'r', encoding = 'utf-8') as file:\n",
    "    for k,line in enumerate(file):\n",
    "        try:\n",
    "            sline = line.strip().split(',')\n",
    "            if sline[1] not in ['ж', 'м', 'мо', 'с', 'жо', 'мн.']:\n",
    "                continue\n",
    "            else:\n",
    "    #дубли, второе условие нужно, потому что есть вхождения типа \"микроб мо\" и \"микроб м\", оставляем оба для мерджа с df_classes\n",
    "                if sline[0] in lemma and sline[1] == gender[lemma.index(sline[0])]: \n",
    "                    continue\n",
    "                elif sline[1] in ['ж', 'м', 'мо', 'с', 'жо', 'мн.'] and len(sline) == 3:\n",
    "                    noparadigm_file.write(line)\n",
    "                    continue\n",
    "                elif sline[1] == 'мн.' and  len(sline) > 7: # pluralia tantum\n",
    "                    #pltnt_file.write(','.join([sline[0],sline[2],sline[3],sline[4],sline[5],sline[6]])) #plNom,plGen,plDat,plAcc,plIns,plLoc\n",
    "                    #pltnt_file.write('\\n')\n",
    "                    sline[2:8] = ['-']*6 #заменяем формы ед.числа на '-'\n",
    "                elif sline[1] in ['ж', 'м', 'мо', 'с', 'жо'] and 7 < len(sline) < 14: # singularia tantum\n",
    "                    #sgtnt_file.write(','.join([sline[0],sline[2],sline[3],sline[4],sline[5],sline[6]])) #sgNom,sgGen,sgDat,sgAcc,sgIns,sgLoc\n",
    "                    #sgtnt_file.write('\\n')\n",
    "                    sline = sline [:8] + ['-']*7 # дописываем '-' вместо форм мн.числа                \n",
    "                    #elif len(sline) >= 14: #эти уже посчитали\n",
    "                gender.append(sline[1])            \n",
    "                for i in range(12):\n",
    "                    index = indices[i]\n",
    "                    paradigms[i+2].append(sline[index])\n",
    "                sline[0] = sline[0].replace('ё','е')\n",
    "                lemma.append(sline[0])\n",
    "\n",
    "        except Exception as e:\n",
    "            print(e)\n",
    "            print(k,line)\n",
    "noparadigm_file.close()\n"
   ]
  },
  {
   "cell_type": "code",
   "execution_count": 3,
   "metadata": {},
   "outputs": [],
   "source": [
    "#датафрейм с формами\n",
    "columns = [\"lemma\",\"gender\", \"form1N\",\"form1G\",\"form1D\",\"form1A\",\"form1I\",\"form1L\",\"form2N\",\"form2G\",\"form2D\",\"form2A\",\"form2I\",\"form2L\"]\n",
    "data = list(zip(columns, paradigms))\n",
    "df_paradigms = pd.DataFrame.from_items(data)"
   ]
  },
  {
   "cell_type": "code",
   "execution_count": 4,
   "metadata": {},
   "outputs": [
    {
     "data": {
      "text/plain": [
       "(49342, 14)"
      ]
     },
     "execution_count": 4,
     "metadata": {},
     "output_type": "execute_result"
    }
   ],
   "source": [
    "df_paradigms.shape"
   ]
  },
  {
   "cell_type": "markdown",
   "metadata": {},
   "source": [
    "### удаляем дубликаты"
   ]
  },
  {
   "cell_type": "code",
   "execution_count": 5,
   "metadata": {},
   "outputs": [
    {
     "name": "stdout",
     "output_type": "stream",
     "text": [
      "         lemma gender\n",
      "2478  балясник     мо\n",
      "         lemma gender\n",
      "2479  балясник     мо\n",
      "        lemma gender\n",
      "3176  береста      ж\n",
      "        lemma gender\n",
      "3177  береста      ж\n",
      "      lemma gender\n",
      "3760  бобер     мо\n",
      "      lemma gender\n",
      "3761  бобер     мо\n",
      "          lemma gender\n",
      "3880  болванчик     мо\n",
      "          lemma gender\n",
      "3881  болванчик     мо\n",
      "         lemma gender\n",
      "4208  бревешко      с\n",
      "         lemma gender\n",
      "4209  бревешко      с\n",
      "       lemma gender\n",
      "5011  вахтер     мо\n",
      "       lemma gender\n",
      "5012  вахтер     мо\n",
      "       lemma gender\n",
      "10860  дрема      ж\n",
      "       lemma gender\n",
      "10861  дрема      ж\n",
      "        lemma gender\n",
      "11292  еканье      с\n",
      "        lemma gender\n",
      "11293  еканье      с\n",
      "         lemma gender\n",
      "11469  железка      ж\n",
      "         lemma gender\n",
      "11470  железка      ж\n",
      "         lemma gender\n",
      "12297  заметка      ж\n",
      "         lemma gender\n",
      "12298  заметка      ж\n",
      "      lemma gender\n",
      "12821   зев      м\n",
      "      lemma gender\n",
      "12822   зев      м\n",
      "           lemma gender\n",
      "13057  знаменщик     мо\n",
      "           lemma gender\n",
      "13058  знаменщик     мо\n",
      "         lemma gender\n",
      "15131  картель      м\n",
      "         lemma gender\n",
      "15132  картель      м\n",
      "      lemma gender\n",
      "18958   лен      м\n",
      "      lemma gender\n",
      "18959   лен      м\n",
      "      lemma gender\n",
      "19608   лох     мо\n",
      "      lemma gender\n",
      "19609   лох     мо\n",
      "        lemma gender\n",
      "20389  маркер      м\n",
      "        lemma gender\n",
      "20390  маркер      м\n",
      "         lemma gender\n",
      "20964  мережка      ж\n",
      "         lemma gender\n",
      "20965  мережка      ж\n",
      "        lemma gender\n",
      "21185  метчик     мо\n",
      "        lemma gender\n",
      "21186  метчик     мо\n",
      "      lemma gender\n",
      "21876  моль      м\n",
      "      lemma gender\n",
      "21877  моль      м\n",
      "                 lemma gender\n",
      "23106  настороженность      ж\n",
      "                 lemma gender\n",
      "23107  настороженность      ж\n",
      "        lemma gender\n",
      "23296  небный      м\n",
      "      lemma gender\n",
      "23297  небо      с\n",
      "       lemma gender\n",
      "26930  падеж      м\n",
      "       lemma gender\n",
      "26931  падеж      м\n",
      "         lemma gender\n",
      "28588  пехтерь     мо\n",
      "         lemma gender\n",
      "28589  пехтерь     мо\n",
      "       lemma gender\n",
      "30669  помет      м\n",
      "       lemma gender\n",
      "30670  помет      м\n",
      "         lemma gender\n",
      "32129  пристав     мо\n",
      "         lemma gender\n",
      "32130  пристав     мо\n",
      "           lemma gender\n",
      "34007  разметчик     мо\n",
      "           lemma gender\n",
      "34008  разметчик     мо\n",
      "            lemma gender\n",
      "34009  разметчица     жо\n",
      "            lemma gender\n",
      "34010  разметчица     жо\n",
      "        lemma gender\n",
      "38587  сметки    мн.\n",
      "        lemma gender\n",
      "38588  сметки    мн.\n",
      "         lemma gender\n",
      "40586  субъект     мо\n",
      "         lemma gender\n",
      "40587  субъект     мо\n",
      "      lemma gender\n",
      "40999  счет      м\n",
      "      lemma gender\n",
      "41000  счет      м\n",
      "       lemma gender\n",
      "41008  счеты    мн.\n",
      "       lemma gender\n",
      "41009  счеты    мн.\n",
      "        lemma gender\n",
      "41134  табель      м\n",
      "        lemma gender\n",
      "41135  табель      м\n",
      "       lemma gender\n",
      "41625  тенор     мо\n",
      "       lemma gender\n",
      "41626  тенор     мо\n",
      "       lemma gender\n",
      "42948  тумак     мо\n",
      "       lemma gender\n",
      "42949  тумак     мо\n",
      "             lemma gender\n",
      "43706  униженность      ж\n",
      "             lemma gender\n",
      "43707  униженность      ж\n",
      "       lemma gender\n",
      "44439  Федор     мо\n",
      "       lemma gender\n",
      "44440  Федор     мо\n",
      "      lemma gender\n",
      "44474   фен      м\n",
      "      lemma gender\n",
      "44475   фен      м\n",
      "        lemma gender\n",
      "46753  черные    мн.\n",
      "        lemma gender\n",
      "46754  черные    мн.\n",
      "       lemma gender\n",
      "47481  шибер     мо\n",
      "       lemma gender\n",
      "47482  шибер     мо\n",
      "       lemma gender\n",
      "47942  шумер     мо\n",
      "       lemma gender\n",
      "47943  шумер     мо\n"
     ]
    }
   ],
   "source": [
    "for i,k in enumerate(df_paradigms.duplicated(['lemma','gender'])):\n",
    "    if k == True:\n",
    "        print(df_paradigms.iloc[[i-1],[0,1]])\n",
    "        print(df_paradigms.iloc[[i],[0,1]])"
   ]
  },
  {
   "cell_type": "code",
   "execution_count": 6,
   "metadata": {},
   "outputs": [],
   "source": [
    "df_paradigms = df_paradigms.drop_duplicates(subset = ['lemma','gender'])"
   ]
  },
  {
   "cell_type": "code",
   "execution_count": 7,
   "metadata": {},
   "outputs": [
    {
     "data": {
      "text/plain": [
       "(49302, 14)"
      ]
     },
     "execution_count": 7,
     "metadata": {},
     "output_type": "execute_result"
    }
   ],
   "source": [
    "df_paradigms.shape"
   ]
  },
  {
   "cell_type": "code",
   "execution_count": 8,
   "metadata": {
    "scrolled": false
   },
   "outputs": [
    {
     "data": {
      "text/html": [
       "<div>\n",
       "<style>\n",
       "    .dataframe thead tr:only-child th {\n",
       "        text-align: right;\n",
       "    }\n",
       "\n",
       "    .dataframe thead th {\n",
       "        text-align: left;\n",
       "    }\n",
       "\n",
       "    .dataframe tbody tr th {\n",
       "        vertical-align: top;\n",
       "    }\n",
       "</style>\n",
       "<table border=\"1\" class=\"dataframe\">\n",
       "  <thead>\n",
       "    <tr style=\"text-align: right;\">\n",
       "      <th></th>\n",
       "      <th>lemma</th>\n",
       "      <th>gender</th>\n",
       "      <th>form1N</th>\n",
       "      <th>form1G</th>\n",
       "      <th>form1D</th>\n",
       "      <th>form1A</th>\n",
       "      <th>form1I</th>\n",
       "      <th>form1L</th>\n",
       "      <th>form2N</th>\n",
       "      <th>form2G</th>\n",
       "      <th>form2D</th>\n",
       "      <th>form2A</th>\n",
       "      <th>form2I</th>\n",
       "      <th>form2L</th>\n",
       "    </tr>\n",
       "  </thead>\n",
       "  <tbody>\n",
       "    <tr>\n",
       "      <th>0</th>\n",
       "      <td>авиакрыло</td>\n",
       "      <td>с</td>\n",
       "      <td>авиакрыло</td>\n",
       "      <td>авиакрыла</td>\n",
       "      <td>авиакрылу</td>\n",
       "      <td>авиакрыло</td>\n",
       "      <td>авиакрылом</td>\n",
       "      <td>авиакрыле</td>\n",
       "      <td>авиакрылья</td>\n",
       "      <td>авиакрыльев</td>\n",
       "      <td>авиакрыльям</td>\n",
       "      <td>авиакрылья</td>\n",
       "      <td>авиакрыльями</td>\n",
       "      <td>авиакрыльях</td>\n",
       "    </tr>\n",
       "    <tr>\n",
       "      <th>1</th>\n",
       "      <td>антикрыло</td>\n",
       "      <td>с</td>\n",
       "      <td>антикрыло</td>\n",
       "      <td>антикрыла</td>\n",
       "      <td>антикрылу</td>\n",
       "      <td>антикрыло</td>\n",
       "      <td>антикрылом</td>\n",
       "      <td>антикрыле</td>\n",
       "      <td>антикрылья</td>\n",
       "      <td>антикрыльев</td>\n",
       "      <td>антикрыльям</td>\n",
       "      <td>антикрылья</td>\n",
       "      <td>антикрыльями</td>\n",
       "      <td>антикрыльях</td>\n",
       "    </tr>\n",
       "    <tr>\n",
       "      <th>2</th>\n",
       "      <td>барин</td>\n",
       "      <td>мо</td>\n",
       "      <td>барин</td>\n",
       "      <td>барина</td>\n",
       "      <td>барину</td>\n",
       "      <td>барина</td>\n",
       "      <td>барином</td>\n",
       "      <td>барине</td>\n",
       "      <td>баре</td>\n",
       "      <td>бар</td>\n",
       "      <td>барам</td>\n",
       "      <td>бар</td>\n",
       "      <td>барами</td>\n",
       "      <td>барах</td>\n",
       "    </tr>\n",
       "    <tr>\n",
       "      <th>3</th>\n",
       "      <td>беремя</td>\n",
       "      <td>с</td>\n",
       "      <td>беремя</td>\n",
       "      <td>беремени</td>\n",
       "      <td>беремени</td>\n",
       "      <td>беремя</td>\n",
       "      <td>беременем</td>\n",
       "      <td>беремени</td>\n",
       "      <td>-</td>\n",
       "      <td>-</td>\n",
       "      <td>-</td>\n",
       "      <td>-</td>\n",
       "      <td>-</td>\n",
       "      <td>-</td>\n",
       "    </tr>\n",
       "    <tr>\n",
       "      <th>4</th>\n",
       "      <td>бесенок</td>\n",
       "      <td>мо</td>\n",
       "      <td>бесёнок</td>\n",
       "      <td>бесёнка</td>\n",
       "      <td>бесёнку</td>\n",
       "      <td>бесёнка</td>\n",
       "      <td>бесёнком</td>\n",
       "      <td>бесёнке</td>\n",
       "      <td>бесенята</td>\n",
       "      <td>бесенят</td>\n",
       "      <td>бесенятам</td>\n",
       "      <td>бесенят</td>\n",
       "      <td>бесенятами</td>\n",
       "      <td>бесенятах</td>\n",
       "    </tr>\n",
       "  </tbody>\n",
       "</table>\n",
       "</div>"
      ],
      "text/plain": [
       "       lemma gender     form1N     form1G     form1D     form1A      form1I  \\\n",
       "0  авиакрыло      с  авиакрыло  авиакрыла  авиакрылу  авиакрыло  авиакрылом   \n",
       "1  антикрыло      с  антикрыло  антикрыла  антикрылу  антикрыло  антикрылом   \n",
       "2      барин     мо      барин     барина     барину     барина     барином   \n",
       "3     беремя      с     беремя   беремени   беремени     беремя   беременем   \n",
       "4    бесенок     мо    бесёнок    бесёнка    бесёнку    бесёнка    бесёнком   \n",
       "\n",
       "      form1L      form2N       form2G       form2D      form2A        form2I  \\\n",
       "0  авиакрыле  авиакрылья  авиакрыльев  авиакрыльям  авиакрылья  авиакрыльями   \n",
       "1  антикрыле  антикрылья  антикрыльев  антикрыльям  антикрылья  антикрыльями   \n",
       "2     барине        баре          бар        барам         бар        барами   \n",
       "3   беремени           -            -            -           -             -   \n",
       "4    бесёнке    бесенята      бесенят    бесенятам     бесенят    бесенятами   \n",
       "\n",
       "        form2L  \n",
       "0  авиакрыльях  \n",
       "1  антикрыльях  \n",
       "2        барах  \n",
       "3            -  \n",
       "4    бесенятах  "
      ]
     },
     "execution_count": 8,
     "metadata": {},
     "output_type": "execute_result"
    }
   ],
   "source": [
    "df_paradigms[:5]"
   ]
  },
  {
   "cell_type": "code",
   "execution_count": 9,
   "metadata": {},
   "outputs": [
    {
     "data": {
      "text/html": [
       "<div>\n",
       "<style>\n",
       "    .dataframe thead tr:only-child th {\n",
       "        text-align: right;\n",
       "    }\n",
       "\n",
       "    .dataframe thead th {\n",
       "        text-align: left;\n",
       "    }\n",
       "\n",
       "    .dataframe tbody tr th {\n",
       "        vertical-align: top;\n",
       "    }\n",
       "</style>\n",
       "<table border=\"1\" class=\"dataframe\">\n",
       "  <thead>\n",
       "    <tr style=\"text-align: right;\">\n",
       "      <th></th>\n",
       "      <th>lemma</th>\n",
       "      <th>gender</th>\n",
       "      <th>form1N</th>\n",
       "      <th>form1G</th>\n",
       "      <th>form1D</th>\n",
       "      <th>form1A</th>\n",
       "      <th>form1I</th>\n",
       "      <th>form1L</th>\n",
       "      <th>form2N</th>\n",
       "      <th>form2G</th>\n",
       "      <th>form2D</th>\n",
       "      <th>form2A</th>\n",
       "      <th>form2I</th>\n",
       "      <th>form2L</th>\n",
       "    </tr>\n",
       "  </thead>\n",
       "  <tbody>\n",
       "    <tr>\n",
       "      <th>30262</th>\n",
       "      <td>полет</td>\n",
       "      <td>м</td>\n",
       "      <td>полёт</td>\n",
       "      <td>полёта</td>\n",
       "      <td>полёту</td>\n",
       "      <td>полёт</td>\n",
       "      <td>полётом</td>\n",
       "      <td>полёте</td>\n",
       "      <td>полёты</td>\n",
       "      <td>полётов</td>\n",
       "      <td>полётам</td>\n",
       "      <td>полёты</td>\n",
       "      <td>полётами</td>\n",
       "      <td>полётах</td>\n",
       "    </tr>\n",
       "  </tbody>\n",
       "</table>\n",
       "</div>"
      ],
      "text/plain": [
       "       lemma gender form1N  form1G  form1D form1A   form1I  form1L  form2N  \\\n",
       "30262  полет      м  полёт  полёта  полёту  полёт  полётом  полёте  полёты   \n",
       "\n",
       "        form2G   form2D  form2A    form2I   form2L  \n",
       "30262  полётов  полётам  полёты  полётами  полётах  "
      ]
     },
     "execution_count": 9,
     "metadata": {},
     "output_type": "execute_result"
    }
   ],
   "source": [
    "df_paradigms.loc[df_paradigms['lemma'] == 'полет']"
   ]
  },
  {
   "cell_type": "markdown",
   "metadata": {},
   "source": [
    "### создаем датафрейм с леммой-классом"
   ]
  },
  {
   "cell_type": "code",
   "execution_count": 10,
   "metadata": {
    "scrolled": false
   },
   "outputs": [],
   "source": [
    "\n",
    "genders = [] #колонка нужна для мерджа с df_paradigms\n",
    "lemmas = []\n",
    "classtags = [] \n",
    "''' 0 - все формы, 1 -pl.tantum, 2 - sg.tantum.\n",
    "если pl.tantum,то в gender сохраняем 'мн.', чтобы совпадало c df_paradigms['gender']\n",
    "classtag дописываем род \n",
    "вирши 2 мн. м 4а: classtag = м4а+ gender = мн.\n",
    "щегольство 10 с 1в- : classtag = c1в- gender = c\n",
    "sg.tantum иногда пишется как [-], запоминаем, чтобы потом дополнить тэг и удалить нагенеренные формы\n",
    "'''\n",
    "notes = open('C:/hse_compling/diploma/data/odict/notes.csv', 'w', encoding = 'utf-8')\n",
    "#создаем словарь для кодирования регулярных отклонений в окончаниях\n",
    "notes_dict = {}\n",
    "notes_dict[''] = '@' \n",
    "i = 0\n",
    "#with open('C:/hse_compling/diploma/data/odict/small.txt', 'r', encoding = 'utf-8') as file:#\n",
    "with open('C:/hse_compling/diploma/data/odict/zalizniak_ordered.txt', 'r', encoding = 'utf-8') as file:\n",
    "    for line in file: #надо проверить, существительное ли это, и выделить из возможных пояснений окончания и пометы\n",
    "        notespart = ''\n",
    "        number = ''\n",
    "        l = line.split('@')\n",
    "        lemmapart = l[0]\n",
    "        if len(l) == 2:\n",
    "            notespart = l[1]\n",
    "        if \"[-]\" in lemmapart or re.search('мн\\..*затрудн\\.',lemmapart) or lemmapart[0].isupper():\n",
    "            number = '-'        \n",
    "        lemma_tags = re.split(\"[\\(\\_\\@\\{\\[\\#\\$]|, [а-яА-Яё]|=>|<=\", lemmapart)[0]\n",
    "        lemma_tags = re.split(\"\\s+\",lemma_tags)\n",
    "        lemma_tags = [i for i in lemma_tags if i]\n",
    "        if len(lemma_tags)< 4 or (lemma_tags[0] in lemmas) or lemma_tags[-2] not in ['ж', 'м', 'мо', 'с', 'жо']:\n",
    "            continue\n",
    "        elif lemma_tags[-3] == 'мн.':\n",
    "            number = '+'\n",
    "            lemma, gender, realgender, classtag = lemma_tags[0],lemma_tags[-3],lemma_tags[-2],lemma_tags[-1]\n",
    "        elif lemma_tags[-2] in ['ж', 'м', 'мо', 'с', 'жо']:\n",
    "            lemma, gender, realgender, classtag = lemma_tags[0],lemma_tags[-2],lemma_tags[-2],lemma_tags[-1]           \n",
    "        #из части с пояснениями достаем особенности окончаний, кодируем их, чтобы добавить в тег\n",
    "        if len(l) == 2:\n",
    "            notes.write(line)\n",
    "            r = re.search(\"[а-яА-Я]+\\, \\-[а-яА-Я]+, \\-[а-яА-Я]+\", notespart)\n",
    "            if r:\n",
    "                match = r.group(0)\n",
    "            else:\n",
    "                match = \"\"\n",
    "            if match not in notes_dict:\n",
    "                i += 1\n",
    "                notes_dict[match] = '@' + str(i)  \n",
    "                #print(match,notes_dict[match])\n",
    "            note = notes_dict[match]\n",
    "        else:\n",
    "            note = ''\n",
    "            \n",
    "        classtag = classtag.rstrip(',')\n",
    "        classtag = realgender + classtag + number + note\n",
    "        classtag.replace('--','-')\n",
    "        genders.append(gender)\n",
    "        lemmas.append(lemma)\n",
    "        classtags.append(classtag)"
   ]
  },
  {
   "cell_type": "code",
   "execution_count": 11,
   "metadata": {},
   "outputs": [],
   "source": [
    "columns = [\"lemma\",\"gender\",\"classtag\"]\n",
    "dataset = list(zip(lemmas, genders, classtags))\n",
    "df_classes = pd.DataFrame(data = dataset, columns = columns)"
   ]
  },
  {
   "cell_type": "code",
   "execution_count": 12,
   "metadata": {
    "scrolled": true
   },
   "outputs": [
    {
     "data": {
      "text/html": [
       "<div>\n",
       "<style>\n",
       "    .dataframe thead tr:only-child th {\n",
       "        text-align: right;\n",
       "    }\n",
       "\n",
       "    .dataframe thead th {\n",
       "        text-align: left;\n",
       "    }\n",
       "\n",
       "    .dataframe tbody tr th {\n",
       "        vertical-align: top;\n",
       "    }\n",
       "</style>\n",
       "<table border=\"1\" class=\"dataframe\">\n",
       "  <thead>\n",
       "    <tr style=\"text-align: right;\">\n",
       "      <th></th>\n",
       "      <th>lemma</th>\n",
       "      <th>gender</th>\n",
       "      <th>classtag</th>\n",
       "    </tr>\n",
       "  </thead>\n",
       "  <tbody>\n",
       "    <tr>\n",
       "      <th>1144</th>\n",
       "      <td>Кинешма</td>\n",
       "      <td>ж</td>\n",
       "      <td>ж1а-</td>\n",
       "    </tr>\n",
       "  </tbody>\n",
       "</table>\n",
       "</div>"
      ],
      "text/plain": [
       "        lemma gender classtag\n",
       "1144  Кинешма      ж     ж1а-"
      ]
     },
     "execution_count": 12,
     "metadata": {},
     "output_type": "execute_result"
    }
   ],
   "source": [
    "df_classes.loc[df_classes['lemma']=='Кинешма']"
   ]
  },
  {
   "cell_type": "code",
   "execution_count": 13,
   "metadata": {},
   "outputs": [],
   "source": [
    "for i,k in enumerate(df_classes.duplicated('lemma')):\n",
    "    if k == True:\n",
    "        print(df_classes.iloc[i-1]['lemma'], df_classes.iloc[i-1]['gender'], df_classes.iloc[i-1]['classtag'])\n",
    "        print(df_classes.iloc[i]['lemma'], df_classes.iloc[i]['gender'], df_classes.iloc[i]['classtag'])"
   ]
  },
  {
   "cell_type": "markdown",
   "metadata": {},
   "source": [
    "### merge"
   ]
  },
  {
   "cell_type": "code",
   "execution_count": 14,
   "metadata": {},
   "outputs": [],
   "source": [
    "\n",
    "df = pd.merge(df_paradigms, df_classes, on=['lemma','gender'])"
   ]
  },
  {
   "cell_type": "code",
   "execution_count": 15,
   "metadata": {},
   "outputs": [
    {
     "data": {
      "text/plain": [
       "(46766, 15)"
      ]
     },
     "execution_count": 15,
     "metadata": {},
     "output_type": "execute_result"
    }
   ],
   "source": [
    "df.shape"
   ]
  },
  {
   "cell_type": "code",
   "execution_count": 16,
   "metadata": {
    "scrolled": false
   },
   "outputs": [],
   "source": [
    "columns = list(df.columns)"
   ]
  },
  {
   "cell_type": "code",
   "execution_count": 17,
   "metadata": {},
   "outputs": [],
   "source": [
    "columns = columns[:2] + columns[-1:] + columns[2:-1]"
   ]
  },
  {
   "cell_type": "code",
   "execution_count": 18,
   "metadata": {},
   "outputs": [],
   "source": [
    "df = df[columns]"
   ]
  },
  {
   "cell_type": "code",
   "execution_count": 19,
   "metadata": {},
   "outputs": [
    {
     "data": {
      "text/html": [
       "<div>\n",
       "<style>\n",
       "    .dataframe thead tr:only-child th {\n",
       "        text-align: right;\n",
       "    }\n",
       "\n",
       "    .dataframe thead th {\n",
       "        text-align: left;\n",
       "    }\n",
       "\n",
       "    .dataframe tbody tr th {\n",
       "        vertical-align: top;\n",
       "    }\n",
       "</style>\n",
       "<table border=\"1\" class=\"dataframe\">\n",
       "  <thead>\n",
       "    <tr style=\"text-align: right;\">\n",
       "      <th></th>\n",
       "      <th>lemma</th>\n",
       "      <th>gender</th>\n",
       "      <th>classtag</th>\n",
       "      <th>form1N</th>\n",
       "      <th>form1G</th>\n",
       "      <th>form1D</th>\n",
       "      <th>form1A</th>\n",
       "      <th>form1I</th>\n",
       "      <th>form1L</th>\n",
       "      <th>form2N</th>\n",
       "      <th>form2G</th>\n",
       "      <th>form2D</th>\n",
       "      <th>form2A</th>\n",
       "      <th>form2I</th>\n",
       "      <th>form2L</th>\n",
       "    </tr>\n",
       "  </thead>\n",
       "  <tbody>\n",
       "    <tr>\n",
       "      <th>0</th>\n",
       "      <td>авиакрыло</td>\n",
       "      <td>с</td>\n",
       "      <td>с1D@1</td>\n",
       "      <td>авиакрыло</td>\n",
       "      <td>авиакрыла</td>\n",
       "      <td>авиакрылу</td>\n",
       "      <td>авиакрыло</td>\n",
       "      <td>авиакрылом</td>\n",
       "      <td>авиакрыле</td>\n",
       "      <td>авиакрылья</td>\n",
       "      <td>авиакрыльев</td>\n",
       "      <td>авиакрыльям</td>\n",
       "      <td>авиакрылья</td>\n",
       "      <td>авиакрыльями</td>\n",
       "      <td>авиакрыльях</td>\n",
       "    </tr>\n",
       "    <tr>\n",
       "      <th>1</th>\n",
       "      <td>антикрыло</td>\n",
       "      <td>с</td>\n",
       "      <td>с1D@1</td>\n",
       "      <td>антикрыло</td>\n",
       "      <td>антикрыла</td>\n",
       "      <td>антикрылу</td>\n",
       "      <td>антикрыло</td>\n",
       "      <td>антикрылом</td>\n",
       "      <td>антикрыле</td>\n",
       "      <td>антикрылья</td>\n",
       "      <td>антикрыльев</td>\n",
       "      <td>антикрыльям</td>\n",
       "      <td>антикрылья</td>\n",
       "      <td>антикрыльями</td>\n",
       "      <td>антикрыльях</td>\n",
       "    </tr>\n",
       "    <tr>\n",
       "      <th>2</th>\n",
       "      <td>барин</td>\n",
       "      <td>мо</td>\n",
       "      <td>мо1**а@</td>\n",
       "      <td>барин</td>\n",
       "      <td>барина</td>\n",
       "      <td>барину</td>\n",
       "      <td>барина</td>\n",
       "      <td>барином</td>\n",
       "      <td>барине</td>\n",
       "      <td>баре</td>\n",
       "      <td>бар</td>\n",
       "      <td>барам</td>\n",
       "      <td>бар</td>\n",
       "      <td>барами</td>\n",
       "      <td>барах</td>\n",
       "    </tr>\n",
       "    <tr>\n",
       "      <th>3</th>\n",
       "      <td>беремя</td>\n",
       "      <td>с</td>\n",
       "      <td>с8**с-</td>\n",
       "      <td>беремя</td>\n",
       "      <td>беремени</td>\n",
       "      <td>беремени</td>\n",
       "      <td>беремя</td>\n",
       "      <td>беременем</td>\n",
       "      <td>беремени</td>\n",
       "      <td>-</td>\n",
       "      <td>-</td>\n",
       "      <td>-</td>\n",
       "      <td>-</td>\n",
       "      <td>-</td>\n",
       "      <td>-</td>\n",
       "    </tr>\n",
       "    <tr>\n",
       "      <th>4</th>\n",
       "      <td>бесенок</td>\n",
       "      <td>мо</td>\n",
       "      <td>мо3**а@2</td>\n",
       "      <td>бесёнок</td>\n",
       "      <td>бесёнка</td>\n",
       "      <td>бесёнку</td>\n",
       "      <td>бесёнка</td>\n",
       "      <td>бесёнком</td>\n",
       "      <td>бесёнке</td>\n",
       "      <td>бесенята</td>\n",
       "      <td>бесенят</td>\n",
       "      <td>бесенятам</td>\n",
       "      <td>бесенят</td>\n",
       "      <td>бесенятами</td>\n",
       "      <td>бесенятах</td>\n",
       "    </tr>\n",
       "  </tbody>\n",
       "</table>\n",
       "</div>"
      ],
      "text/plain": [
       "       lemma gender  classtag     form1N     form1G     form1D     form1A  \\\n",
       "0  авиакрыло      с     с1D@1  авиакрыло  авиакрыла  авиакрылу  авиакрыло   \n",
       "1  антикрыло      с     с1D@1  антикрыло  антикрыла  антикрылу  антикрыло   \n",
       "2      барин     мо   мо1**а@      барин     барина     барину     барина   \n",
       "3     беремя      с    с8**с-     беремя   беремени   беремени     беремя   \n",
       "4    бесенок     мо  мо3**а@2    бесёнок    бесёнка    бесёнку    бесёнка   \n",
       "\n",
       "       form1I     form1L      form2N       form2G       form2D      form2A  \\\n",
       "0  авиакрылом  авиакрыле  авиакрылья  авиакрыльев  авиакрыльям  авиакрылья   \n",
       "1  антикрылом  антикрыле  антикрылья  антикрыльев  антикрыльям  антикрылья   \n",
       "2     барином     барине        баре          бар        барам         бар   \n",
       "3   беременем   беремени           -            -            -           -   \n",
       "4    бесёнком    бесёнке    бесенята      бесенят    бесенятам     бесенят   \n",
       "\n",
       "         form2I       form2L  \n",
       "0  авиакрыльями  авиакрыльях  \n",
       "1  антикрыльями  антикрыльях  \n",
       "2        барами        барах  \n",
       "3             -            -  \n",
       "4    бесенятами    бесенятах  "
      ]
     },
     "execution_count": 19,
     "metadata": {},
     "output_type": "execute_result"
    }
   ],
   "source": [
    "df[:5]"
   ]
  },
  {
   "cell_type": "code",
   "execution_count": 20,
   "metadata": {},
   "outputs": [],
   "source": [
    "df['lemma'] = df['form1N'] # теперь леммы тоже с ё"
   ]
  },
  {
   "cell_type": "code",
   "execution_count": 21,
   "metadata": {},
   "outputs": [
    {
     "name": "stderr",
     "output_type": "stream",
     "text": [
      "100%|████████████████████████████████████████████| 46766/46766 [00:07<00:00, 6260.16it/s]\n"
     ]
    }
   ],
   "source": [
    "for i in tqdm(range(df.shape[0])): #удаляем лишние формы для singularia и pluralia tantum \n",
    "    if df.loc[df.index[i], 'classtag'].endswith('+'):\n",
    "        for k in range(3,9):\n",
    "            df.iloc[i,k] = '-'\n",
    "    elif df.loc[df.index[i], 'classtag'].endswith('-'):\n",
    "        for k in range(9,15):\n",
    "            df.iloc[i,k] = '-'"
   ]
  },
  {
   "cell_type": "code",
   "execution_count": 22,
   "metadata": {},
   "outputs": [
    {
     "data": {
      "text/html": [
       "<div>\n",
       "<style>\n",
       "    .dataframe thead tr:only-child th {\n",
       "        text-align: right;\n",
       "    }\n",
       "\n",
       "    .dataframe thead th {\n",
       "        text-align: left;\n",
       "    }\n",
       "\n",
       "    .dataframe tbody tr th {\n",
       "        vertical-align: top;\n",
       "    }\n",
       "</style>\n",
       "<table border=\"1\" class=\"dataframe\">\n",
       "  <thead>\n",
       "    <tr style=\"text-align: right;\">\n",
       "      <th></th>\n",
       "      <th>lemma</th>\n",
       "      <th>gender</th>\n",
       "      <th>classtag</th>\n",
       "      <th>form1N</th>\n",
       "      <th>form1G</th>\n",
       "      <th>form1D</th>\n",
       "      <th>form1A</th>\n",
       "      <th>form1I</th>\n",
       "      <th>form1L</th>\n",
       "      <th>form2N</th>\n",
       "      <th>form2G</th>\n",
       "      <th>form2D</th>\n",
       "      <th>form2A</th>\n",
       "      <th>form2I</th>\n",
       "      <th>form2L</th>\n",
       "    </tr>\n",
       "  </thead>\n",
       "  <tbody>\n",
       "    <tr>\n",
       "      <th>16293</th>\n",
       "      <td>корма</td>\n",
       "      <td>ж</td>\n",
       "      <td>ж1в-</td>\n",
       "      <td>корма</td>\n",
       "      <td>кормы</td>\n",
       "      <td>корме</td>\n",
       "      <td>корму</td>\n",
       "      <td>кормой</td>\n",
       "      <td>корме</td>\n",
       "      <td>-</td>\n",
       "      <td>-</td>\n",
       "      <td>-</td>\n",
       "      <td>-</td>\n",
       "      <td>-</td>\n",
       "      <td>-</td>\n",
       "    </tr>\n",
       "  </tbody>\n",
       "</table>\n",
       "</div>"
      ],
      "text/plain": [
       "       lemma gender classtag form1N form1G form1D form1A  form1I form1L  \\\n",
       "16293  корма      ж     ж1в-  корма  кормы  корме  корму  кормой  корме   \n",
       "\n",
       "      form2N form2G form2D form2A form2I form2L  \n",
       "16293      -      -      -      -      -      -  "
      ]
     },
     "execution_count": 22,
     "metadata": {},
     "output_type": "execute_result"
    }
   ],
   "source": [
    "df.loc[df['lemma']=='корма']"
   ]
  },
  {
   "cell_type": "code",
   "execution_count": 23,
   "metadata": {},
   "outputs": [
    {
     "data": {
      "text/html": [
       "<div>\n",
       "<style>\n",
       "    .dataframe thead tr:only-child th {\n",
       "        text-align: right;\n",
       "    }\n",
       "\n",
       "    .dataframe thead th {\n",
       "        text-align: left;\n",
       "    }\n",
       "\n",
       "    .dataframe tbody tr th {\n",
       "        vertical-align: top;\n",
       "    }\n",
       "</style>\n",
       "<table border=\"1\" class=\"dataframe\">\n",
       "  <thead>\n",
       "    <tr style=\"text-align: right;\">\n",
       "      <th></th>\n",
       "      <th>lemma</th>\n",
       "      <th>gender</th>\n",
       "      <th>classtag</th>\n",
       "      <th>form1N</th>\n",
       "      <th>form1G</th>\n",
       "      <th>form1D</th>\n",
       "      <th>form1A</th>\n",
       "      <th>form1I</th>\n",
       "      <th>form1L</th>\n",
       "      <th>form2N</th>\n",
       "      <th>form2G</th>\n",
       "      <th>form2D</th>\n",
       "      <th>form2A</th>\n",
       "      <th>form2I</th>\n",
       "      <th>form2L</th>\n",
       "    </tr>\n",
       "  </thead>\n",
       "  <tbody>\n",
       "    <tr>\n",
       "      <th>10335</th>\n",
       "      <td>дрожжи</td>\n",
       "      <td>мн.</td>\n",
       "      <td>м4е+</td>\n",
       "      <td>-</td>\n",
       "      <td>-</td>\n",
       "      <td>-</td>\n",
       "      <td>-</td>\n",
       "      <td>-</td>\n",
       "      <td>-</td>\n",
       "      <td>дрожжи</td>\n",
       "      <td>дрожжей</td>\n",
       "      <td>дрожжам</td>\n",
       "      <td>дрожжи</td>\n",
       "      <td>дрожжами</td>\n",
       "      <td>дрожжах</td>\n",
       "    </tr>\n",
       "  </tbody>\n",
       "</table>\n",
       "</div>"
      ],
      "text/plain": [
       "        lemma gender classtag form1N form1G form1D form1A form1I form1L  \\\n",
       "10335  дрожжи    мн.     м4е+      -      -      -      -      -      -   \n",
       "\n",
       "       form2N   form2G   form2D  form2A    form2I   form2L  \n",
       "10335  дрожжи  дрожжей  дрожжам  дрожжи  дрожжами  дрожжах  "
      ]
     },
     "execution_count": 23,
     "metadata": {},
     "output_type": "execute_result"
    }
   ],
   "source": [
    "df.loc[df['lemma']=='дрожжи']"
   ]
  },
  {
   "cell_type": "code",
   "execution_count": 24,
   "metadata": {},
   "outputs": [],
   "source": [
    "#save to csv\n",
    "df.to_csv('data/data.csv', sep='\\t', encoding = 'utf-8', index=False)\n",
    "#save to excel\n",
    "writer = pd.ExcelWriter('data/data.xlsx')\n",
    "df.to_excel(writer,'Sheet1')\n",
    "writer.save()"
   ]
  },
  {
   "cell_type": "code",
   "execution_count": 25,
   "metadata": {},
   "outputs": [],
   "source": [
    "\n",
    "df = pd.read_csv('data/data.csv', sep='\\t', encoding = 'utf-8')"
   ]
  },
  {
   "cell_type": "markdown",
   "metadata": {},
   "source": [
    "### сохраняем  lowercase"
   ]
  },
  {
   "cell_type": "code",
   "execution_count": 26,
   "metadata": {},
   "outputs": [
    {
     "data": {
      "text/html": [
       "<div>\n",
       "<style>\n",
       "    .dataframe thead tr:only-child th {\n",
       "        text-align: right;\n",
       "    }\n",
       "\n",
       "    .dataframe thead th {\n",
       "        text-align: left;\n",
       "    }\n",
       "\n",
       "    .dataframe tbody tr th {\n",
       "        vertical-align: top;\n",
       "    }\n",
       "</style>\n",
       "<table border=\"1\" class=\"dataframe\">\n",
       "  <thead>\n",
       "    <tr style=\"text-align: right;\">\n",
       "      <th></th>\n",
       "      <th>lemma</th>\n",
       "      <th>gender</th>\n",
       "      <th>classtag</th>\n",
       "      <th>form1N</th>\n",
       "      <th>form1G</th>\n",
       "      <th>form1D</th>\n",
       "      <th>form1A</th>\n",
       "      <th>form1I</th>\n",
       "      <th>form1L</th>\n",
       "      <th>form2N</th>\n",
       "      <th>form2G</th>\n",
       "      <th>form2D</th>\n",
       "      <th>form2A</th>\n",
       "      <th>form2I</th>\n",
       "      <th>form2L</th>\n",
       "    </tr>\n",
       "  </thead>\n",
       "  <tbody>\n",
       "    <tr>\n",
       "      <th>7444</th>\n",
       "      <td>Гибралтар</td>\n",
       "      <td>м</td>\n",
       "      <td>м1а-</td>\n",
       "      <td>Гибралтар</td>\n",
       "      <td>Гибралтара</td>\n",
       "      <td>Гибралтару</td>\n",
       "      <td>Гибралтар</td>\n",
       "      <td>Гибралтаром</td>\n",
       "      <td>Гибралтаре</td>\n",
       "      <td>-</td>\n",
       "      <td>-</td>\n",
       "      <td>-</td>\n",
       "      <td>-</td>\n",
       "      <td>-</td>\n",
       "      <td>-</td>\n",
       "    </tr>\n",
       "  </tbody>\n",
       "</table>\n",
       "</div>"
      ],
      "text/plain": [
       "          lemma gender classtag     form1N      form1G      form1D     form1A  \\\n",
       "7444  Гибралтар      м     м1а-  Гибралтар  Гибралтара  Гибралтару  Гибралтар   \n",
       "\n",
       "           form1I      form1L form2N form2G form2D form2A form2I form2L  \n",
       "7444  Гибралтаром  Гибралтаре      -      -      -      -      -      -  "
      ]
     },
     "execution_count": 26,
     "metadata": {},
     "output_type": "execute_result"
    }
   ],
   "source": [
    "df.loc[df['lemma']=='Гибралтар']"
   ]
  },
  {
   "cell_type": "code",
   "execution_count": 27,
   "metadata": {},
   "outputs": [
    {
     "name": "stdout",
     "output_type": "stream",
     "text": [
      "Wall time: 2min 59s\n"
     ]
    }
   ],
   "source": [
    "%%time\n",
    "for i in range(df.shape[0]):\n",
    "    for k in range(15):\n",
    "        if k != 2:\n",
    "            df.iloc[i,k] = df.iloc[i,k].lower()\n",
    "    "
   ]
  },
  {
   "cell_type": "code",
   "execution_count": 28,
   "metadata": {},
   "outputs": [
    {
     "data": {
      "text/html": [
       "<div>\n",
       "<style>\n",
       "    .dataframe thead tr:only-child th {\n",
       "        text-align: right;\n",
       "    }\n",
       "\n",
       "    .dataframe thead th {\n",
       "        text-align: left;\n",
       "    }\n",
       "\n",
       "    .dataframe tbody tr th {\n",
       "        vertical-align: top;\n",
       "    }\n",
       "</style>\n",
       "<table border=\"1\" class=\"dataframe\">\n",
       "  <thead>\n",
       "    <tr style=\"text-align: right;\">\n",
       "      <th></th>\n",
       "      <th>lemma</th>\n",
       "      <th>gender</th>\n",
       "      <th>classtag</th>\n",
       "      <th>form1N</th>\n",
       "      <th>form1G</th>\n",
       "      <th>form1D</th>\n",
       "      <th>form1A</th>\n",
       "      <th>form1I</th>\n",
       "      <th>form1L</th>\n",
       "      <th>form2N</th>\n",
       "      <th>form2G</th>\n",
       "      <th>form2D</th>\n",
       "      <th>form2A</th>\n",
       "      <th>form2I</th>\n",
       "      <th>form2L</th>\n",
       "    </tr>\n",
       "  </thead>\n",
       "  <tbody>\n",
       "    <tr>\n",
       "      <th>2670</th>\n",
       "      <td>башка</td>\n",
       "      <td>ж</td>\n",
       "      <td>ж3*в-</td>\n",
       "      <td>башка</td>\n",
       "      <td>башки</td>\n",
       "      <td>башке</td>\n",
       "      <td>башку</td>\n",
       "      <td>башкой</td>\n",
       "      <td>башке</td>\n",
       "      <td>-</td>\n",
       "      <td>-</td>\n",
       "      <td>-</td>\n",
       "      <td>-</td>\n",
       "      <td>-</td>\n",
       "      <td>-</td>\n",
       "    </tr>\n",
       "  </tbody>\n",
       "</table>\n",
       "</div>"
      ],
      "text/plain": [
       "      lemma gender classtag form1N form1G form1D form1A  form1I form1L form2N  \\\n",
       "2670  башка      ж    ж3*в-  башка  башки  башке  башку  башкой  башке      -   \n",
       "\n",
       "     form2G form2D form2A form2I form2L  \n",
       "2670      -      -      -      -      -  "
      ]
     },
     "execution_count": 28,
     "metadata": {},
     "output_type": "execute_result"
    }
   ],
   "source": [
    "df.loc[df['lemma']=='башка']"
   ]
  },
  {
   "cell_type": "code",
   "execution_count": 29,
   "metadata": {},
   "outputs": [],
   "source": [
    "df = df.drop_duplicates(subset = ['lemma','gender'])"
   ]
  },
  {
   "cell_type": "code",
   "execution_count": 30,
   "metadata": {},
   "outputs": [],
   "source": [
    "#save to csv\n",
    "df.to_csv('data/data_lower.csv', sep='\\t', encoding = 'utf-8', index=False)\n",
    "#save to excel\n",
    "writer = pd.ExcelWriter('data/data_lower.xlsx')\n",
    "df.to_excel(writer,'Sheet1')\n",
    "writer.save()"
   ]
  },
  {
   "cell_type": "markdown",
   "metadata": {},
   "source": [
    "### short format to long format"
   ]
  },
  {
   "cell_type": "code",
   "execution_count": 31,
   "metadata": {},
   "outputs": [],
   "source": [
    "df = pd.read_csv('data/data_lower.csv', sep='\\t', encoding = 'utf-8')"
   ]
  },
  {
   "cell_type": "code",
   "execution_count": 32,
   "metadata": {
    "scrolled": true
   },
   "outputs": [
    {
     "data": {
      "text/html": [
       "<div>\n",
       "<style>\n",
       "    .dataframe thead tr:only-child th {\n",
       "        text-align: right;\n",
       "    }\n",
       "\n",
       "    .dataframe thead th {\n",
       "        text-align: left;\n",
       "    }\n",
       "\n",
       "    .dataframe tbody tr th {\n",
       "        vertical-align: top;\n",
       "    }\n",
       "</style>\n",
       "<table border=\"1\" class=\"dataframe\">\n",
       "  <thead>\n",
       "    <tr style=\"text-align: right;\">\n",
       "      <th></th>\n",
       "      <th>lemma</th>\n",
       "      <th>gender</th>\n",
       "      <th>classtag</th>\n",
       "      <th>form1N</th>\n",
       "      <th>form1G</th>\n",
       "      <th>form1D</th>\n",
       "      <th>form1A</th>\n",
       "      <th>form1I</th>\n",
       "      <th>form1L</th>\n",
       "      <th>form2N</th>\n",
       "      <th>form2G</th>\n",
       "      <th>form2D</th>\n",
       "      <th>form2A</th>\n",
       "      <th>form2I</th>\n",
       "      <th>form2L</th>\n",
       "    </tr>\n",
       "  </thead>\n",
       "  <tbody>\n",
       "    <tr>\n",
       "      <th>0</th>\n",
       "      <td>авиакрыло</td>\n",
       "      <td>с</td>\n",
       "      <td>с1D@1</td>\n",
       "      <td>авиакрыло</td>\n",
       "      <td>авиакрыла</td>\n",
       "      <td>авиакрылу</td>\n",
       "      <td>авиакрыло</td>\n",
       "      <td>авиакрылом</td>\n",
       "      <td>авиакрыле</td>\n",
       "      <td>авиакрылья</td>\n",
       "      <td>авиакрыльев</td>\n",
       "      <td>авиакрыльям</td>\n",
       "      <td>авиакрылья</td>\n",
       "      <td>авиакрыльями</td>\n",
       "      <td>авиакрыльях</td>\n",
       "    </tr>\n",
       "    <tr>\n",
       "      <th>1</th>\n",
       "      <td>антикрыло</td>\n",
       "      <td>с</td>\n",
       "      <td>с1D@1</td>\n",
       "      <td>антикрыло</td>\n",
       "      <td>антикрыла</td>\n",
       "      <td>антикрылу</td>\n",
       "      <td>антикрыло</td>\n",
       "      <td>антикрылом</td>\n",
       "      <td>антикрыле</td>\n",
       "      <td>антикрылья</td>\n",
       "      <td>антикрыльев</td>\n",
       "      <td>антикрыльям</td>\n",
       "      <td>антикрылья</td>\n",
       "      <td>антикрыльями</td>\n",
       "      <td>антикрыльях</td>\n",
       "    </tr>\n",
       "    <tr>\n",
       "      <th>2</th>\n",
       "      <td>барин</td>\n",
       "      <td>мо</td>\n",
       "      <td>мо1**а@</td>\n",
       "      <td>барин</td>\n",
       "      <td>барина</td>\n",
       "      <td>барину</td>\n",
       "      <td>барина</td>\n",
       "      <td>барином</td>\n",
       "      <td>барине</td>\n",
       "      <td>баре</td>\n",
       "      <td>бар</td>\n",
       "      <td>барам</td>\n",
       "      <td>бар</td>\n",
       "      <td>барами</td>\n",
       "      <td>барах</td>\n",
       "    </tr>\n",
       "    <tr>\n",
       "      <th>3</th>\n",
       "      <td>беремя</td>\n",
       "      <td>с</td>\n",
       "      <td>с8**с-</td>\n",
       "      <td>беремя</td>\n",
       "      <td>беремени</td>\n",
       "      <td>беремени</td>\n",
       "      <td>беремя</td>\n",
       "      <td>беременем</td>\n",
       "      <td>беремени</td>\n",
       "      <td>-</td>\n",
       "      <td>-</td>\n",
       "      <td>-</td>\n",
       "      <td>-</td>\n",
       "      <td>-</td>\n",
       "      <td>-</td>\n",
       "    </tr>\n",
       "    <tr>\n",
       "      <th>4</th>\n",
       "      <td>бесёнок</td>\n",
       "      <td>мо</td>\n",
       "      <td>мо3**а@2</td>\n",
       "      <td>бесёнок</td>\n",
       "      <td>бесёнка</td>\n",
       "      <td>бесёнку</td>\n",
       "      <td>бесёнка</td>\n",
       "      <td>бесёнком</td>\n",
       "      <td>бесёнке</td>\n",
       "      <td>бесенята</td>\n",
       "      <td>бесенят</td>\n",
       "      <td>бесенятам</td>\n",
       "      <td>бесенят</td>\n",
       "      <td>бесенятами</td>\n",
       "      <td>бесенятах</td>\n",
       "    </tr>\n",
       "  </tbody>\n",
       "</table>\n",
       "</div>"
      ],
      "text/plain": [
       "       lemma gender  classtag     form1N     form1G     form1D     form1A  \\\n",
       "0  авиакрыло      с     с1D@1  авиакрыло  авиакрыла  авиакрылу  авиакрыло   \n",
       "1  антикрыло      с     с1D@1  антикрыло  антикрыла  антикрылу  антикрыло   \n",
       "2      барин     мо   мо1**а@      барин     барина     барину     барина   \n",
       "3     беремя      с    с8**с-     беремя   беремени   беремени     беремя   \n",
       "4    бесёнок     мо  мо3**а@2    бесёнок    бесёнка    бесёнку    бесёнка   \n",
       "\n",
       "       form1I     form1L      form2N       form2G       form2D      form2A  \\\n",
       "0  авиакрылом  авиакрыле  авиакрылья  авиакрыльев  авиакрыльям  авиакрылья   \n",
       "1  антикрылом  антикрыле  антикрылья  антикрыльев  антикрыльям  антикрылья   \n",
       "2     барином     барине        баре          бар        барам         бар   \n",
       "3   беременем   беремени           -            -            -           -   \n",
       "4    бесёнком    бесёнке    бесенята      бесенят    бесенятам     бесенят   \n",
       "\n",
       "         form2I       form2L  \n",
       "0  авиакрыльями  авиакрыльях  \n",
       "1  антикрыльями  антикрыльях  \n",
       "2        барами        барах  \n",
       "3             -            -  \n",
       "4    бесенятами    бесенятах  "
      ]
     },
     "execution_count": 32,
     "metadata": {},
     "output_type": "execute_result"
    }
   ],
   "source": [
    "df[:5]"
   ]
  },
  {
   "cell_type": "code",
   "execution_count": 34,
   "metadata": {},
   "outputs": [
    {
     "name": "stdout",
     "output_type": "stream",
     "text": [
      "Wall time: 1.51 s\n"
     ]
    }
   ],
   "source": [
    "%%time\n",
    "df_long = pd.wide_to_long(df, stubnames = 'form', i = ['lemma','gender'], j = 'formtag')"
   ]
  },
  {
   "cell_type": "code",
   "execution_count": 35,
   "metadata": {},
   "outputs": [
    {
     "data": {
      "text/plain": [
       "(560640, 2)"
      ]
     },
     "execution_count": 35,
     "metadata": {},
     "output_type": "execute_result"
    }
   ],
   "source": [
    "df_long.shape"
   ]
  },
  {
   "cell_type": "code",
   "execution_count": 36,
   "metadata": {},
   "outputs": [],
   "source": [
    "df_long = df_long.sample(frac=1, random_state=15)"
   ]
  },
  {
   "cell_type": "code",
   "execution_count": 37,
   "metadata": {
    "scrolled": true
   },
   "outputs": [
    {
     "data": {
      "text/html": [
       "<div>\n",
       "<style>\n",
       "    .dataframe thead tr:only-child th {\n",
       "        text-align: right;\n",
       "    }\n",
       "\n",
       "    .dataframe thead th {\n",
       "        text-align: left;\n",
       "    }\n",
       "\n",
       "    .dataframe tbody tr th {\n",
       "        vertical-align: top;\n",
       "    }\n",
       "</style>\n",
       "<table border=\"1\" class=\"dataframe\">\n",
       "  <thead>\n",
       "    <tr style=\"text-align: right;\">\n",
       "      <th></th>\n",
       "      <th></th>\n",
       "      <th></th>\n",
       "      <th>classtag</th>\n",
       "      <th>form</th>\n",
       "    </tr>\n",
       "    <tr>\n",
       "      <th>lemma</th>\n",
       "      <th>gender</th>\n",
       "      <th>formtag</th>\n",
       "      <th></th>\n",
       "      <th></th>\n",
       "    </tr>\n",
       "  </thead>\n",
       "  <tbody>\n",
       "    <tr>\n",
       "      <th>календарь</th>\n",
       "      <th>м</th>\n",
       "      <th>2D</th>\n",
       "      <td>м2в</td>\n",
       "      <td>календарям</td>\n",
       "    </tr>\n",
       "    <tr>\n",
       "      <th>никонианин</th>\n",
       "      <th>мо</th>\n",
       "      <th>2L</th>\n",
       "      <td>мо1**а</td>\n",
       "      <td>никонианах</td>\n",
       "    </tr>\n",
       "    <tr>\n",
       "      <th>уилкания</th>\n",
       "      <th>ж</th>\n",
       "      <th>1I</th>\n",
       "      <td>ж7а-</td>\n",
       "      <td>уилканией</td>\n",
       "    </tr>\n",
       "    <tr>\n",
       "      <th>инстанция</th>\n",
       "      <th>ж</th>\n",
       "      <th>2D</th>\n",
       "      <td>ж7а</td>\n",
       "      <td>инстанциям</td>\n",
       "    </tr>\n",
       "    <tr>\n",
       "      <th>скверность</th>\n",
       "      <th>ж</th>\n",
       "      <th>1D</th>\n",
       "      <td>ж8а</td>\n",
       "      <td>скверности</td>\n",
       "    </tr>\n",
       "    <tr>\n",
       "      <th>цепня</th>\n",
       "      <th>ж</th>\n",
       "      <th>1D</th>\n",
       "      <td>ж2*в</td>\n",
       "      <td>цепне</td>\n",
       "    </tr>\n",
       "    <tr>\n",
       "      <th>лингвист</th>\n",
       "      <th>мо</th>\n",
       "      <th>1A</th>\n",
       "      <td>мо1а</td>\n",
       "      <td>лингвиста</td>\n",
       "    </tr>\n",
       "    <tr>\n",
       "      <th>контрреволюционер</th>\n",
       "      <th>мо</th>\n",
       "      <th>2A</th>\n",
       "      <td>мо1а</td>\n",
       "      <td>контрреволюционеров</td>\n",
       "    </tr>\n",
       "    <tr>\n",
       "      <th>картография</th>\n",
       "      <th>ж</th>\n",
       "      <th>1G</th>\n",
       "      <td>ж7а</td>\n",
       "      <td>картографии</td>\n",
       "    </tr>\n",
       "    <tr>\n",
       "      <th>обладание</th>\n",
       "      <th>с</th>\n",
       "      <th>2N</th>\n",
       "      <td>с7а</td>\n",
       "      <td>обладания</td>\n",
       "    </tr>\n",
       "  </tbody>\n",
       "</table>\n",
       "</div>"
      ],
      "text/plain": [
       "                                 classtag                 form\n",
       "lemma             gender formtag                              \n",
       "календарь         м      2D           м2в           календарям\n",
       "никонианин        мо     2L        мо1**а           никонианах\n",
       "уилкания          ж      1I          ж7а-            уилканией\n",
       "инстанция         ж      2D           ж7а           инстанциям\n",
       "скверность        ж      1D           ж8а           скверности\n",
       "цепня             ж      1D          ж2*в                цепне\n",
       "лингвист          мо     1A          мо1а            лингвиста\n",
       "контрреволюционер мо     2A          мо1а  контрреволюционеров\n",
       "картография       ж      1G           ж7а          картографии\n",
       "обладание         с      2N           с7а            обладания"
      ]
     },
     "execution_count": 37,
     "metadata": {},
     "output_type": "execute_result"
    }
   ],
   "source": [
    "df_long[:10]"
   ]
  },
  {
   "cell_type": "code",
   "execution_count": 38,
   "metadata": {},
   "outputs": [
    {
     "name": "stdout",
     "output_type": "stream",
     "text": [
      "Wall time: 5min 47s\n"
     ]
    }
   ],
   "source": [
    "%%time\n",
    "#save to csv\n",
    "df_long.to_csv('data/data_lower_long.csv', sep='\\t', encoding = 'utf-8')\n",
    "#save to excel\n",
    "writer = pd.ExcelWriter('data/data_lower_long.xlsx')\n",
    "df_long.to_excel(writer,'Sheet1')\n",
    "writer.save()"
   ]
  },
  {
   "cell_type": "code",
   "execution_count": null,
   "metadata": {},
   "outputs": [],
   "source": []
  }
 ],
 "metadata": {
  "kernelspec": {
   "display_name": "Python 3",
   "language": "python",
   "name": "python3"
  },
  "language_info": {
   "codemirror_mode": {
    "name": "ipython",
    "version": 3
   },
   "file_extension": ".py",
   "mimetype": "text/x-python",
   "name": "python",
   "nbconvert_exporter": "python",
   "pygments_lexer": "ipython3",
   "version": "3.5.0"
  }
 },
 "nbformat": 4,
 "nbformat_minor": 2
}
