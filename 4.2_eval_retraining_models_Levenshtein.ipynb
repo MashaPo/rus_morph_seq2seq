{
 "cells": [
  {
   "cell_type": "code",
   "execution_count": 1,
   "metadata": {
    "collapsed": true
   },
   "outputs": [],
   "source": [
    "import warnings\n",
    "warnings.filterwarnings('ignore')"
   ]
  },
  {
   "cell_type": "code",
   "execution_count": 2,
   "metadata": {},
   "outputs": [
    {
     "name": "stderr",
     "output_type": "stream",
     "text": [
      "Using TensorFlow backend.\n"
     ]
    }
   ],
   "source": [
    "from keras.models import Model, model_from_json, load_model\n",
    "from keras.layers import Input, LSTM, Dense\n",
    "from keras.callbacks import ModelCheckpoint\n",
    "import numpy as np\n",
    "import keras\n",
    "from tqdm import tqdm\n",
    "import pandas as pd\n",
    "from time import time"
   ]
  },
  {
   "cell_type": "code",
   "execution_count": 3,
   "metadata": {
    "collapsed": true
   },
   "outputs": [],
   "source": [
    "from model import predict_form, predict_paradigm"
   ]
  },
  {
   "cell_type": "markdown",
   "metadata": {},
   "source": [
    "### model try"
   ]
  },
  {
   "cell_type": "code",
   "execution_count": 4,
   "metadata": {
    "collapsed": true
   },
   "outputs": [],
   "source": [
    "enc = load_model('retraining_models/encoder-13.h5')\n",
    "dec = load_model('retraining_models/decoder-13.h5')"
   ]
  },
  {
   "cell_type": "code",
   "execution_count": 5,
   "metadata": {
    "scrolled": true
   },
   "outputs": [
    {
     "data": {
      "text/plain": [
       "'кукурузохранилищем'"
      ]
     },
     "execution_count": 5,
     "metadata": {},
     "output_type": "execute_result"
    }
   ],
   "source": [
    "predict_form('кукурузохранилище1I',enc,dec)"
   ]
  },
  {
   "cell_type": "code",
   "execution_count": 6,
   "metadata": {
    "scrolled": true
   },
   "outputs": [
    {
     "data": {
      "text/html": [
       "<div>\n",
       "<style scoped>\n",
       "    .dataframe tbody tr th:only-of-type {\n",
       "        vertical-align: middle;\n",
       "    }\n",
       "\n",
       "    .dataframe tbody tr th {\n",
       "        vertical-align: top;\n",
       "    }\n",
       "\n",
       "    .dataframe thead th {\n",
       "        text-align: right;\n",
       "    }\n",
       "</style>\n",
       "<table border=\"1\" class=\"dataframe\">\n",
       "  <thead>\n",
       "    <tr style=\"text-align: right;\">\n",
       "      <th></th>\n",
       "      <th>Singular</th>\n",
       "      <th>Plural</th>\n",
       "    </tr>\n",
       "  </thead>\n",
       "  <tbody>\n",
       "    <tr>\n",
       "      <th>Nom</th>\n",
       "      <td>кукурузохранилище</td>\n",
       "      <td>кукурузохранилища</td>\n",
       "    </tr>\n",
       "    <tr>\n",
       "      <th>Gen</th>\n",
       "      <td>кукурузохранилища</td>\n",
       "      <td>кукурузохранилищ</td>\n",
       "    </tr>\n",
       "    <tr>\n",
       "      <th>Dat</th>\n",
       "      <td>кукурузохранилищу</td>\n",
       "      <td>кукурузохранилищам</td>\n",
       "    </tr>\n",
       "    <tr>\n",
       "      <th>Acc</th>\n",
       "      <td>кукурузохранилище</td>\n",
       "      <td>кукурузохранилища</td>\n",
       "    </tr>\n",
       "    <tr>\n",
       "      <th>Ins</th>\n",
       "      <td>кукурузохранилищем</td>\n",
       "      <td>кукурузохранилищами</td>\n",
       "    </tr>\n",
       "    <tr>\n",
       "      <th>Loc</th>\n",
       "      <td>кукурузохранилище</td>\n",
       "      <td>кукурузохранилищах</td>\n",
       "    </tr>\n",
       "  </tbody>\n",
       "</table>\n",
       "</div>"
      ],
      "text/plain": [
       "               Singular               Plural\n",
       "Nom   кукурузохранилище    кукурузохранилища\n",
       "Gen   кукурузохранилища     кукурузохранилищ\n",
       "Dat   кукурузохранилищу   кукурузохранилищам\n",
       "Acc   кукурузохранилище    кукурузохранилища\n",
       "Ins  кукурузохранилищем  кукурузохранилищами\n",
       "Loc   кукурузохранилище   кукурузохранилищах"
      ]
     },
     "execution_count": 6,
     "metadata": {},
     "output_type": "execute_result"
    }
   ],
   "source": [
    "predict_paradigm('кукурузохранилище',enc,dec)"
   ]
  },
  {
   "cell_type": "markdown",
   "metadata": {},
   "source": [
    "### data"
   ]
  },
  {
   "cell_type": "code",
   "execution_count": 16,
   "metadata": {
    "collapsed": true
   },
   "outputs": [],
   "source": [
    "path_to_rfile = 'data/test/test_full.csv' \n",
    "data_full = pd.read_csv(path_to_rfile, encoding='utf-8',sep='\\t')"
   ]
  },
  {
   "cell_type": "code",
   "execution_count": 17,
   "metadata": {
    "collapsed": true
   },
   "outputs": [],
   "source": [
    "data = data_full[data_full.apply(lambda x: not x['classtag'].endswith(('-','+','0')), axis=1)]"
   ]
  },
  {
   "cell_type": "code",
   "execution_count": 18,
   "metadata": {},
   "outputs": [
    {
     "data": {
      "text/plain": [
       "126396"
      ]
     },
     "execution_count": 18,
     "metadata": {},
     "output_type": "execute_result"
    }
   ],
   "source": [
    "len(data)"
   ]
  },
  {
   "cell_type": "code",
   "execution_count": null,
   "metadata": {},
   "outputs": [
    {
     "name": "stdout",
     "output_type": "stream",
     "text": [
      "evaluating model_19...\n"
     ]
    },
    {
     "name": "stderr",
     "output_type": "stream",
     "text": [
      "100%|██████████████████████████████████████████████████████████████████████████| 126396/126396 [22:23<00:00, 94.05it/s]\n"
     ]
    },
    {
     "name": "stdout",
     "output_type": "stream",
     "text": [
      "evaluating took 22.3979 min\n",
      "for model_19:\n",
      "Total count: 126396\n",
      "False: 113797\n",
      "True: 12599\n",
      "accuracy: 0.0997\n",
      "\n",
      "\n",
      "evaluating model_20...\n"
     ]
    },
    {
     "name": "stderr",
     "output_type": "stream",
     "text": [
      "100%|██████████████████████████████████████████████████████████████████████████| 126396/126396 [22:09<00:00, 95.09it/s]\n"
     ]
    },
    {
     "name": "stdout",
     "output_type": "stream",
     "text": [
      "evaluating took 22.155 min\n",
      "for model_20:\n",
      "Total count: 126396\n",
      "False: 115085\n",
      "True: 11311\n",
      "accuracy: 0.0895\n",
      "\n",
      "\n",
      "evaluating model_21...\n"
     ]
    },
    {
     "name": "stderr",
     "output_type": "stream",
     "text": [
      "100%|██████████████████████████████████████████████████████████████████████████| 126396/126396 [21:11<00:00, 99.44it/s]\n"
     ]
    },
    {
     "name": "stdout",
     "output_type": "stream",
     "text": [
      "evaluating took 21.1838 min\n",
      "for model_21:\n",
      "Total count: 126396\n",
      "False: 114944\n",
      "True: 11452\n",
      "accuracy: 0.0906\n",
      "\n",
      "\n",
      "evaluating model_22...\n"
     ]
    },
    {
     "name": "stderr",
     "output_type": "stream",
     "text": [
      "100%|██████████████████████████████████████████████████████████████████████████| 126396/126396 [21:38<00:00, 97.37it/s]\n"
     ]
    },
    {
     "name": "stdout",
     "output_type": "stream",
     "text": [
      "evaluating took 21.6346 min\n",
      "for model_22:\n",
      "Total count: 126396\n",
      "False: 114766\n",
      "True: 11630\n",
      "accuracy: 0.092\n",
      "\n",
      "\n",
      "evaluating model_23...\n"
     ]
    },
    {
     "name": "stderr",
     "output_type": "stream",
     "text": [
      "100%|██████████████████████████████████████████████████████████████████████████| 126396/126396 [21:41<00:00, 97.11it/s]\n"
     ]
    },
    {
     "name": "stdout",
     "output_type": "stream",
     "text": [
      "evaluating took 21.6934 min\n",
      "for model_23:\n",
      "Total count: 126396\n",
      "False: 114576\n",
      "True: 11820\n",
      "accuracy: 0.0935\n",
      "\n",
      "\n",
      "evaluating model_24...\n"
     ]
    },
    {
     "name": "stderr",
     "output_type": "stream",
     "text": [
      "  8%|██████                                                                     | 10174/126396 [01:47<20:27, 94.69it/s]"
     ]
    }
   ],
   "source": [
    "for i in range(19,39):\n",
    "    print('evaluating model_{}...'.format(i))\n",
    "    wfile = 'training_loop/eval/lev/eval_model_{}.csv'.format(i)\n",
    "    data_eval = data.copy()\n",
    "    enc_name = 'retraining_models/lev/encoder-{}.h5'.format(i)\n",
    "    dec_name = 'retraining_models/lev/decoder-{}.h5'.format(i)\n",
    "    enc = load_model(enc_name)\n",
    "    dec = load_model(dec_name)\n",
    "    seq2seq_predictions = []\n",
    "    seq2seq_eval = []\n",
    "    t = time()\n",
    "    for row in tqdm(range(data.shape[0])):\n",
    "        inp = data_eval.iloc[row,0]+str(data_eval.iloc[row,2])\n",
    "        out = predict_form(inp,enc,dec).rstrip()\n",
    "        seq2seq_predictions.append(out)\n",
    "        if out == data_eval.iloc[row,4]:\n",
    "            seq2seq_eval.append('True')\n",
    "        else:\n",
    "            seq2seq_eval.append('False')\n",
    "    data_eval['seq2seq_predictions'] = seq2seq_predictions\n",
    "    data_eval['seq2seq_eval'] = seq2seq_eval\n",
    "    print('evaluating took {} min'.format(round((time() - t)/60,4)))\n",
    "    print('for model_{}:'.format(i))\n",
    "    data_eval.to_csv(wfile, encoding='utf-8',sep='\\t', index=False)"
   ]
  },
  {
   "cell_type": "markdown",
   "metadata": {},
   "source": [
    "###  по уже прогнанному тесту"
   ]
  },
  {
   "cell_type": "code",
   "execution_count": 13,
   "metadata": {
    "collapsed": true
   },
   "outputs": [],
   "source": [
    "def accuracy(data):\n",
    "    a,t,f = 0,0,0\n",
    "    eval_ = data['seq2seq_eval']\n",
    "    values =  eval_.value_counts()\n",
    "    t = values[True]\n",
    "    f = values[False]\n",
    "    a = t/(len(eval_))\n",
    "    a = round(a,4)\n",
    "    print('Total count:', len(eval_))\n",
    "    print('False:', f)\n",
    "    print('True:', t)\n",
    "    print('accuracy:',a)\n",
    "    print('\\n')\n",
    "    return a"
   ]
  },
  {
   "cell_type": "code",
   "execution_count": 15,
   "metadata": {},
   "outputs": [
    {
     "name": "stdout",
     "output_type": "stream",
     "text": [
      "evaluating model_1...\n",
      "Total count: 126396\n",
      "False: 114680\n",
      "True: 11716\n",
      "accuracy: 0.0927\n",
      "\n",
      "\n",
      "evaluating model_2...\n",
      "Total count: 126396\n",
      "False: 85803\n",
      "True: 40593\n",
      "accuracy: 0.3212\n",
      "\n",
      "\n",
      "evaluating model_3...\n",
      "Total count: 126396\n",
      "False: 50508\n",
      "True: 75888\n",
      "accuracy: 0.6004\n",
      "\n",
      "\n",
      "evaluating model_4...\n",
      "Total count: 126396\n",
      "False: 38004\n",
      "True: 88392\n",
      "accuracy: 0.6993\n",
      "\n",
      "\n",
      "evaluating model_5...\n",
      "Total count: 126396\n",
      "False: 25510\n",
      "True: 100886\n",
      "accuracy: 0.7982\n",
      "\n",
      "\n",
      "evaluating model_6...\n",
      "Total count: 126396\n",
      "False: 20103\n",
      "True: 106293\n",
      "accuracy: 0.841\n",
      "\n",
      "\n",
      "evaluating model_7...\n",
      "Total count: 126396\n",
      "False: 18449\n",
      "True: 107947\n",
      "accuracy: 0.854\n",
      "\n",
      "\n",
      "evaluating model_8...\n",
      "Total count: 126396\n",
      "False: 16734\n",
      "True: 109662\n",
      "accuracy: 0.8676\n",
      "\n",
      "\n",
      "evaluating model_9...\n",
      "Total count: 126396\n",
      "False: 16302\n",
      "True: 110094\n",
      "accuracy: 0.871\n",
      "\n",
      "\n",
      "evaluating model_10...\n",
      "Total count: 126396\n",
      "False: 14920\n",
      "True: 111476\n",
      "accuracy: 0.882\n",
      "\n",
      "\n",
      "evaluating model_11...\n",
      "Total count: 126396\n",
      "False: 13761\n",
      "True: 112635\n",
      "accuracy: 0.8911\n",
      "\n",
      "\n",
      "evaluating model_12...\n",
      "Total count: 126396\n",
      "False: 15091\n",
      "True: 111305\n",
      "accuracy: 0.8806\n",
      "\n",
      "\n",
      "evaluating model_13...\n",
      "Total count: 126396\n",
      "False: 13791\n",
      "True: 112605\n",
      "accuracy: 0.8909\n",
      "\n",
      "\n",
      "evaluating model_14...\n",
      "Total count: 126396\n",
      "False: 13055\n",
      "True: 113341\n",
      "accuracy: 0.8967\n",
      "\n",
      "\n",
      "evaluating model_15...\n",
      "Total count: 126396\n",
      "False: 13171\n",
      "True: 113225\n",
      "accuracy: 0.8958\n",
      "\n",
      "\n",
      "evaluating model_16...\n",
      "Total count: 126396\n",
      "False: 11627\n",
      "True: 114769\n",
      "accuracy: 0.908\n",
      "\n",
      "\n",
      "evaluating model_17...\n",
      "Total count: 126396\n",
      "False: 12883\n",
      "True: 113513\n",
      "accuracy: 0.8981\n",
      "\n",
      "\n",
      "evaluating model_18...\n",
      "Total count: 126396\n",
      "False: 11166\n",
      "True: 115230\n",
      "accuracy: 0.9117\n",
      "\n",
      "\n",
      "evaluating model_19...\n"
     ]
    },
    {
     "ename": "FileNotFoundError",
     "evalue": "File b'training_loop/eval/eval_model_19.csv' does not exist",
     "output_type": "error",
     "traceback": [
      "\u001b[1;31m---------------------------------------------------------------------------\u001b[0m",
      "\u001b[1;31mFileNotFoundError\u001b[0m                         Traceback (most recent call last)",
      "\u001b[1;32m<ipython-input-15-2f6928e03c47>\u001b[0m in \u001b[0;36m<module>\u001b[1;34m()\u001b[0m\n\u001b[0;32m      3\u001b[0m         \u001b[0mprint\u001b[0m\u001b[1;33m(\u001b[0m\u001b[1;34m'evaluating model_{}...'\u001b[0m\u001b[1;33m.\u001b[0m\u001b[0mformat\u001b[0m\u001b[1;33m(\u001b[0m\u001b[0mi\u001b[0m\u001b[1;33m)\u001b[0m\u001b[1;33m)\u001b[0m\u001b[1;33m\u001b[0m\u001b[0m\n\u001b[0;32m      4\u001b[0m         \u001b[0mwfile\u001b[0m \u001b[1;33m=\u001b[0m \u001b[1;34m'training_loop/eval/eval_model_{}.csv'\u001b[0m\u001b[1;33m.\u001b[0m\u001b[0mformat\u001b[0m\u001b[1;33m(\u001b[0m\u001b[0mi\u001b[0m\u001b[1;33m)\u001b[0m\u001b[1;33m\u001b[0m\u001b[0m\n\u001b[1;32m----> 5\u001b[1;33m         \u001b[0mdata_eval\u001b[0m \u001b[1;33m=\u001b[0m \u001b[0mpd\u001b[0m\u001b[1;33m.\u001b[0m\u001b[0mread_csv\u001b[0m\u001b[1;33m(\u001b[0m\u001b[0mwfile\u001b[0m\u001b[1;33m,\u001b[0m \u001b[0mencoding\u001b[0m\u001b[1;33m=\u001b[0m\u001b[1;34m'utf-8'\u001b[0m\u001b[1;33m,\u001b[0m\u001b[0msep\u001b[0m\u001b[1;33m=\u001b[0m\u001b[1;34m'\\t'\u001b[0m\u001b[1;33m)\u001b[0m\u001b[1;33m\u001b[0m\u001b[0m\n\u001b[0m\u001b[0;32m      6\u001b[0m         \u001b[0macc\u001b[0m \u001b[1;33m=\u001b[0m \u001b[0maccuracy\u001b[0m\u001b[1;33m(\u001b[0m\u001b[0mdata_eval\u001b[0m\u001b[1;33m)\u001b[0m\u001b[1;33m\u001b[0m\u001b[0m\n\u001b[0;32m      7\u001b[0m         \u001b[1;31m#data_eval.to_csv(wfile, encoding='utf-8',sep='\\t', index=False)\u001b[0m\u001b[1;33m\u001b[0m\u001b[1;33m\u001b[0m\u001b[0m\n",
      "\u001b[1;32mc:\\python35\\lib\\site-packages\\pandas\\io\\parsers.py\u001b[0m in \u001b[0;36mparser_f\u001b[1;34m(filepath_or_buffer, sep, delimiter, header, names, index_col, usecols, squeeze, prefix, mangle_dupe_cols, dtype, engine, converters, true_values, false_values, skipinitialspace, skiprows, nrows, na_values, keep_default_na, na_filter, verbose, skip_blank_lines, parse_dates, infer_datetime_format, keep_date_col, date_parser, dayfirst, iterator, chunksize, compression, thousands, decimal, lineterminator, quotechar, quoting, escapechar, comment, encoding, dialect, tupleize_cols, error_bad_lines, warn_bad_lines, skipfooter, doublequote, delim_whitespace, low_memory, memory_map, float_precision)\u001b[0m\n\u001b[0;32m    676\u001b[0m                     skip_blank_lines=skip_blank_lines)\n\u001b[0;32m    677\u001b[0m \u001b[1;33m\u001b[0m\u001b[0m\n\u001b[1;32m--> 678\u001b[1;33m         \u001b[1;32mreturn\u001b[0m \u001b[0m_read\u001b[0m\u001b[1;33m(\u001b[0m\u001b[0mfilepath_or_buffer\u001b[0m\u001b[1;33m,\u001b[0m \u001b[0mkwds\u001b[0m\u001b[1;33m)\u001b[0m\u001b[1;33m\u001b[0m\u001b[0m\n\u001b[0m\u001b[0;32m    679\u001b[0m \u001b[1;33m\u001b[0m\u001b[0m\n\u001b[0;32m    680\u001b[0m     \u001b[0mparser_f\u001b[0m\u001b[1;33m.\u001b[0m\u001b[0m__name__\u001b[0m \u001b[1;33m=\u001b[0m \u001b[0mname\u001b[0m\u001b[1;33m\u001b[0m\u001b[0m\n",
      "\u001b[1;32mc:\\python35\\lib\\site-packages\\pandas\\io\\parsers.py\u001b[0m in \u001b[0;36m_read\u001b[1;34m(filepath_or_buffer, kwds)\u001b[0m\n\u001b[0;32m    438\u001b[0m \u001b[1;33m\u001b[0m\u001b[0m\n\u001b[0;32m    439\u001b[0m     \u001b[1;31m# Create the parser.\u001b[0m\u001b[1;33m\u001b[0m\u001b[1;33m\u001b[0m\u001b[0m\n\u001b[1;32m--> 440\u001b[1;33m     \u001b[0mparser\u001b[0m \u001b[1;33m=\u001b[0m \u001b[0mTextFileReader\u001b[0m\u001b[1;33m(\u001b[0m\u001b[0mfilepath_or_buffer\u001b[0m\u001b[1;33m,\u001b[0m \u001b[1;33m**\u001b[0m\u001b[0mkwds\u001b[0m\u001b[1;33m)\u001b[0m\u001b[1;33m\u001b[0m\u001b[0m\n\u001b[0m\u001b[0;32m    441\u001b[0m \u001b[1;33m\u001b[0m\u001b[0m\n\u001b[0;32m    442\u001b[0m     \u001b[1;32mif\u001b[0m \u001b[0mchunksize\u001b[0m \u001b[1;32mor\u001b[0m \u001b[0miterator\u001b[0m\u001b[1;33m:\u001b[0m\u001b[1;33m\u001b[0m\u001b[0m\n",
      "\u001b[1;32mc:\\python35\\lib\\site-packages\\pandas\\io\\parsers.py\u001b[0m in \u001b[0;36m__init__\u001b[1;34m(self, f, engine, **kwds)\u001b[0m\n\u001b[0;32m    785\u001b[0m             \u001b[0mself\u001b[0m\u001b[1;33m.\u001b[0m\u001b[0moptions\u001b[0m\u001b[1;33m[\u001b[0m\u001b[1;34m'has_index_names'\u001b[0m\u001b[1;33m]\u001b[0m \u001b[1;33m=\u001b[0m \u001b[0mkwds\u001b[0m\u001b[1;33m[\u001b[0m\u001b[1;34m'has_index_names'\u001b[0m\u001b[1;33m]\u001b[0m\u001b[1;33m\u001b[0m\u001b[0m\n\u001b[0;32m    786\u001b[0m \u001b[1;33m\u001b[0m\u001b[0m\n\u001b[1;32m--> 787\u001b[1;33m         \u001b[0mself\u001b[0m\u001b[1;33m.\u001b[0m\u001b[0m_make_engine\u001b[0m\u001b[1;33m(\u001b[0m\u001b[0mself\u001b[0m\u001b[1;33m.\u001b[0m\u001b[0mengine\u001b[0m\u001b[1;33m)\u001b[0m\u001b[1;33m\u001b[0m\u001b[0m\n\u001b[0m\u001b[0;32m    788\u001b[0m \u001b[1;33m\u001b[0m\u001b[0m\n\u001b[0;32m    789\u001b[0m     \u001b[1;32mdef\u001b[0m \u001b[0mclose\u001b[0m\u001b[1;33m(\u001b[0m\u001b[0mself\u001b[0m\u001b[1;33m)\u001b[0m\u001b[1;33m:\u001b[0m\u001b[1;33m\u001b[0m\u001b[0m\n",
      "\u001b[1;32mc:\\python35\\lib\\site-packages\\pandas\\io\\parsers.py\u001b[0m in \u001b[0;36m_make_engine\u001b[1;34m(self, engine)\u001b[0m\n\u001b[0;32m   1012\u001b[0m     \u001b[1;32mdef\u001b[0m \u001b[0m_make_engine\u001b[0m\u001b[1;33m(\u001b[0m\u001b[0mself\u001b[0m\u001b[1;33m,\u001b[0m \u001b[0mengine\u001b[0m\u001b[1;33m=\u001b[0m\u001b[1;34m'c'\u001b[0m\u001b[1;33m)\u001b[0m\u001b[1;33m:\u001b[0m\u001b[1;33m\u001b[0m\u001b[0m\n\u001b[0;32m   1013\u001b[0m         \u001b[1;32mif\u001b[0m \u001b[0mengine\u001b[0m \u001b[1;33m==\u001b[0m \u001b[1;34m'c'\u001b[0m\u001b[1;33m:\u001b[0m\u001b[1;33m\u001b[0m\u001b[0m\n\u001b[1;32m-> 1014\u001b[1;33m             \u001b[0mself\u001b[0m\u001b[1;33m.\u001b[0m\u001b[0m_engine\u001b[0m \u001b[1;33m=\u001b[0m \u001b[0mCParserWrapper\u001b[0m\u001b[1;33m(\u001b[0m\u001b[0mself\u001b[0m\u001b[1;33m.\u001b[0m\u001b[0mf\u001b[0m\u001b[1;33m,\u001b[0m \u001b[1;33m**\u001b[0m\u001b[0mself\u001b[0m\u001b[1;33m.\u001b[0m\u001b[0moptions\u001b[0m\u001b[1;33m)\u001b[0m\u001b[1;33m\u001b[0m\u001b[0m\n\u001b[0m\u001b[0;32m   1015\u001b[0m         \u001b[1;32melse\u001b[0m\u001b[1;33m:\u001b[0m\u001b[1;33m\u001b[0m\u001b[0m\n\u001b[0;32m   1016\u001b[0m             \u001b[1;32mif\u001b[0m \u001b[0mengine\u001b[0m \u001b[1;33m==\u001b[0m \u001b[1;34m'python'\u001b[0m\u001b[1;33m:\u001b[0m\u001b[1;33m\u001b[0m\u001b[0m\n",
      "\u001b[1;32mc:\\python35\\lib\\site-packages\\pandas\\io\\parsers.py\u001b[0m in \u001b[0;36m__init__\u001b[1;34m(self, src, **kwds)\u001b[0m\n\u001b[0;32m   1706\u001b[0m         \u001b[0mkwds\u001b[0m\u001b[1;33m[\u001b[0m\u001b[1;34m'usecols'\u001b[0m\u001b[1;33m]\u001b[0m \u001b[1;33m=\u001b[0m \u001b[0mself\u001b[0m\u001b[1;33m.\u001b[0m\u001b[0musecols\u001b[0m\u001b[1;33m\u001b[0m\u001b[0m\n\u001b[0;32m   1707\u001b[0m \u001b[1;33m\u001b[0m\u001b[0m\n\u001b[1;32m-> 1708\u001b[1;33m         \u001b[0mself\u001b[0m\u001b[1;33m.\u001b[0m\u001b[0m_reader\u001b[0m \u001b[1;33m=\u001b[0m \u001b[0mparsers\u001b[0m\u001b[1;33m.\u001b[0m\u001b[0mTextReader\u001b[0m\u001b[1;33m(\u001b[0m\u001b[0msrc\u001b[0m\u001b[1;33m,\u001b[0m \u001b[1;33m**\u001b[0m\u001b[0mkwds\u001b[0m\u001b[1;33m)\u001b[0m\u001b[1;33m\u001b[0m\u001b[0m\n\u001b[0m\u001b[0;32m   1709\u001b[0m \u001b[1;33m\u001b[0m\u001b[0m\n\u001b[0;32m   1710\u001b[0m         \u001b[0mpassed_names\u001b[0m \u001b[1;33m=\u001b[0m \u001b[0mself\u001b[0m\u001b[1;33m.\u001b[0m\u001b[0mnames\u001b[0m \u001b[1;32mis\u001b[0m \u001b[1;32mNone\u001b[0m\u001b[1;33m\u001b[0m\u001b[0m\n",
      "\u001b[1;32mpandas\\_libs\\parsers.pyx\u001b[0m in \u001b[0;36mpandas._libs.parsers.TextReader.__cinit__\u001b[1;34m()\u001b[0m\n",
      "\u001b[1;32mpandas\\_libs\\parsers.pyx\u001b[0m in \u001b[0;36mpandas._libs.parsers.TextReader._setup_parser_source\u001b[1;34m()\u001b[0m\n",
      "\u001b[1;31mFileNotFoundError\u001b[0m: File b'training_loop/eval/eval_model_19.csv' does not exist"
     ]
    }
   ],
   "source": [
    "with open('training_loop/eval/eval_true_result.csv','w',encoding = 'utf-8') as file:\n",
    "    for i in range(1,40):\n",
    "        print('evaluating model_{}...'.format(i))\n",
    "        wfile = 'training_loop/eval/lev/eval_model_{}.csv'.format(i)\n",
    "        data_eval = pd.read_csv(wfile, encoding='utf-8',sep='\\t')\n",
    "        acc = accuracy(data_eval)\n",
    "        #data_eval.to_csv(wfile, encoding='utf-8',sep='\\t', index=False)\n",
    "        file.write('{}\\t{}\\n'.format(i,acc))"
   ]
  },
  {
   "cell_type": "code",
   "execution_count": null,
   "metadata": {
    "collapsed": true
   },
   "outputs": [],
   "source": []
  }
 ],
 "metadata": {
  "kernelspec": {
   "display_name": "Python 3",
   "language": "python",
   "name": "python3"
  },
  "language_info": {
   "codemirror_mode": {
    "name": "ipython",
    "version": 3
   },
   "file_extension": ".py",
   "mimetype": "text/x-python",
   "name": "python",
   "nbconvert_exporter": "python",
   "pygments_lexer": "ipython3",
   "version": "3.5.0"
  }
 },
 "nbformat": 4,
 "nbformat_minor": 2
}
