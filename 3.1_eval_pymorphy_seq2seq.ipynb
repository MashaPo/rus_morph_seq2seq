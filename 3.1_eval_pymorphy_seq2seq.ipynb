{
 "cells": [
  {
   "cell_type": "code",
   "execution_count": 1,
   "metadata": {},
   "outputs": [
    {
     "name": "stderr",
     "output_type": "stream",
     "text": [
      "c:\\python3.5\\lib\\site-packages\\h5py\\__init__.py:34: FutureWarning: Conversion of the second argument of issubdtype from `float` to `np.floating` is deprecated. In future, it will be treated as `np.float64 == np.dtype(float).type`.\n",
      "  from ._conv import register_converters as _register_converters\n",
      "Using TensorFlow backend.\n"
     ]
    }
   ],
   "source": [
    "from keras.models import Model, model_from_json, load_model\n",
    "from keras.layers import Input, LSTM, Dense\n",
    "from keras.callbacks import ModelCheckpoint\n",
    "import numpy as np\n",
    "import keras\n",
    "from tqdm import tqdm\n",
    "import pandas as pd\n",
    "import pymorphy2"
   ]
  },
  {
   "cell_type": "markdown",
   "metadata": {},
   "source": [
    "### data"
   ]
  },
  {
   "cell_type": "code",
   "execution_count": 2,
   "metadata": {},
   "outputs": [],
   "source": [
    "rfile = 'test_full.csv'"
   ]
  },
  {
   "cell_type": "code",
   "execution_count": 3,
   "metadata": {},
   "outputs": [],
   "source": [
    "path_to_rfile = 'C:/hse_compling/diploma/data/test/' + rfile"
   ]
  },
  {
   "cell_type": "code",
   "execution_count": 4,
   "metadata": {},
   "outputs": [],
   "source": [
    "#path_to_wfile = 'C:/hse_compling/diploma/data/eval/eval_' + rfile\n",
    "#path_to_wfile = 'C:/hse_compling/diploma/data/eval/eval_test_full_25epochs.csv'\n",
    "path_to_wfile = 'C:/hse_compling/diploma/data/eval/eval_test_full_letters.csv'"
   ]
  },
  {
   "cell_type": "code",
   "execution_count": 5,
   "metadata": {},
   "outputs": [],
   "source": [
    "#path_to_wfile_filtered = 'C:/hse_compling/diploma/data/eval/eval_filtered_' + rfile\n",
    "#path_to_wfile_filtered = 'C:/hse_compling/diploma/data/eval/eval_filetred_test_full_25epochs.csv'\n",
    "path_to_wfile_filtered = 'C:/hse_compling/diploma/data/eval/eval_filetred_test_full_letters.csv'"
   ]
  },
  {
   "cell_type": "code",
   "execution_count": 6,
   "metadata": {},
   "outputs": [],
   "source": [
    "data = pd.read_csv(path_to_rfile, encoding='utf-8',sep='\\t')"
   ]
  },
  {
   "cell_type": "markdown",
   "metadata": {},
   "source": [
    "### checking pymorphy"
   ]
  },
  {
   "cell_type": "code",
   "execution_count": 7,
   "metadata": {},
   "outputs": [],
   "source": [
    "morph = pymorphy2.MorphAnalyzer()"
   ]
  },
  {
   "cell_type": "code",
   "execution_count": 8,
   "metadata": {},
   "outputs": [],
   "source": [
    "word = morph.parse('запой')"
   ]
  },
  {
   "cell_type": "code",
   "execution_count": 13,
   "metadata": {},
   "outputs": [],
   "source": [
    "word = word[0]"
   ]
  },
  {
   "cell_type": "code",
   "execution_count": 14,
   "metadata": {
    "scrolled": true
   },
   "outputs": [
    {
     "data": {
      "text/plain": [
       "Parse(word='запевшего', tag=OpencorporaTag('PRTF,perf,tran,past,actv anim,masc,sing,accs'), normal_form='запеть', score=1.0, methods_stack=((<DictionaryAnalyzer>, 'запевшего', 894, 18),))"
      ]
     },
     "execution_count": 14,
     "metadata": {},
     "output_type": "execute_result"
    }
   ],
   "source": [
    "word.inflect({'sing','accs'})"
   ]
  },
  {
   "cell_type": "code",
   "execution_count": 17,
   "metadata": {},
   "outputs": [],
   "source": [
    "#table from seq2seq to pymorphy\n",
    "trans_number = {'1':'sing', '2':'plur'}\n",
    "trans_case = {'N':'nomn','G':'gent','D':'datv','A':'accs','I':'ablt','L':'loct'}"
   ]
  },
  {
   "cell_type": "markdown",
   "metadata": {},
   "source": [
    "### checking seq2seq model"
   ]
  },
  {
   "cell_type": "code",
   "execution_count": 13,
   "metadata": {},
   "outputs": [
    {
     "name": "stderr",
     "output_type": "stream",
     "text": [
      "c:\\python3.5\\lib\\site-packages\\keras\\models.py:255: UserWarning: No training configuration found in save file: the model was *not* compiled. Compile it manually.\n",
      "  warnings.warn('No training configuration found in save file: '\n"
     ]
    }
   ],
   "source": [
    "from model import predict_form"
   ]
  },
  {
   "cell_type": "code",
   "execution_count": 14,
   "metadata": {},
   "outputs": [
    {
     "data": {
      "text/plain": [
       "'деревьев'"
      ]
     },
     "execution_count": 14,
     "metadata": {},
     "output_type": "execute_result"
    }
   ],
   "source": [
    "predict_form('дерево22')"
   ]
  },
  {
   "cell_type": "markdown",
   "metadata": {},
   "source": [
    "### looping through data and predicting forms with pymorphy"
   ]
  },
  {
   "cell_type": "code",
   "execution_count": 18,
   "metadata": {},
   "outputs": [
    {
     "name": "stdout",
     "output_type": "stream",
     "text": [
      "Wall time: 42.8 s\n"
     ]
    }
   ],
   "source": [
    "%%time\n",
    "pymorphy_predictions = []\n",
    "pymorphy_eval = []\n",
    "pymorphy_exeptions = []\n",
    "for row in range(data.shape[0]):\n",
    "#for row in tqdm(range(10)):\n",
    "    lemma = data.iloc[row,0]\n",
    "    number,case = str(data.iloc[row,2])\n",
    "    number = trans_number[number]\n",
    "    case = trans_case[case]\n",
    "    py_lemma = morph.parse(lemma)[0]\n",
    "    \n",
    "    try:\n",
    "        prediction = py_lemma.inflect({number, case}).word        \n",
    "    except Exception as e:\n",
    "        pymorphy_exeptions.append((number,case,lemma))\n",
    "        prediction =  '-'\n",
    "        #print('{} {}({})'.format(number,case,lemma))   \n",
    "    pymorphy_predictions.append(prediction)\n",
    "    true_form = data.iloc[row,4]\n",
    "    if prediction == true_form:\n",
    "        pymorphy_eval.append('True')\n",
    "    else:\n",
    "        pymorphy_eval.append('False')\n",
    "        "
   ]
  },
  {
   "cell_type": "code",
   "execution_count": 19,
   "metadata": {},
   "outputs": [],
   "source": [
    "data['pymorphy_predictions'] = pymorphy_predictions\n",
    "data['pymorphy_eval'] = pymorphy_eval"
   ]
  },
  {
   "cell_type": "markdown",
   "metadata": {},
   "source": [
    "### predicting forms with seq2seq"
   ]
  },
  {
   "cell_type": "raw",
   "metadata": {},
   "source": [
    "%%time\n",
    "seq2seq_predictions = []\n",
    "seq2seq_eval = []\n",
    "for row in tqdm(range(data.shape[0])):\n",
    "#for row in tqdm(range(100)):\n",
    "    inp = data.iloc[row,0]+str(data.iloc[row,2])\n",
    "    out = predict_form(inp).rstrip()\n",
    "    seq2seq_predictions.append(out)\n",
    "    if out == data.iloc[row,4]:\n",
    "        seq2seq_eval.append('True')\n",
    "    else:\n",
    "        seq2seq_eval.append('False')"
   ]
  },
  {
   "cell_type": "raw",
   "metadata": {},
   "source": [
    "data['seq2seq_predictions'] = seq2seq_predictions"
   ]
  },
  {
   "cell_type": "code",
   "execution_count": 20,
   "metadata": {},
   "outputs": [],
   "source": [
    "#uploading results from file\n",
    "seq2seq_predictions = open('testing/model_predict_full_letters.txt','r',encoding = 'utf-8').read().split('\\n')\n",
    "data['seq2seq_predictions'] = seq2seq_predictions\n",
    "seq2seq_eval = []\n",
    "for row in range(data.shape[0]):\n",
    "    true_form = data.iloc[row,4]\n",
    "    prediction = data.iloc[row,7]\n",
    "    if prediction == true_form:\n",
    "        seq2seq_eval.append('True')\n",
    "    else:\n",
    "        seq2seq_eval.append('False')\n",
    "data['seq2seq_eval'] = seq2seq_eval      "
   ]
  },
  {
   "cell_type": "code",
   "execution_count": 21,
   "metadata": {},
   "outputs": [],
   "source": [
    "data.to_csv(path_to_wfile, encoding='utf-8',sep='\\t', index=False)\n",
    "#writer = pd.ExcelWriter(path_to_wfile.replace('.csv', '.xlsx'))\n",
    "#data.to_excel(writer,'Sheet1')\n",
    "#writer.save()"
   ]
  },
  {
   "cell_type": "code",
   "execution_count": 22,
   "metadata": {},
   "outputs": [],
   "source": [
    "#для замеров аккуратности без учета \"ошибок\" на неизменяемых, pl.tantum, sg.tantum\n",
    "data_filtered = data[data.apply(lambda x: not x['classtag'].endswith(('-','+','0')), axis=1)] \n"
   ]
  },
  {
   "cell_type": "code",
   "execution_count": 23,
   "metadata": {},
   "outputs": [],
   "source": [
    "data_filtered.to_csv(path_to_wfile_filtered, encoding='utf-8',sep='\\t', index=False)\n"
   ]
  },
  {
   "cell_type": "markdown",
   "metadata": {},
   "source": [
    "### accuracy"
   ]
  },
  {
   "cell_type": "code",
   "execution_count": 24,
   "metadata": {},
   "outputs": [],
   "source": [
    "def accuracy(model,data):\n",
    "    column = model + '_eval'\n",
    "    eval_ = data[column]\n",
    "    value_counts =  eval_.value_counts()\n",
    "    acc = eval_.value_counts()['True']/(len(eval_))\n",
    "    acc = round(acc,4)\n",
    "    print('for model {}:'.format(model))\n",
    "    print('False:', value_counts['False'])\n",
    "    print('True:', value_counts['True'])\n",
    "    print('accuracy:',acc)"
   ]
  },
  {
   "cell_type": "code",
   "execution_count": 25,
   "metadata": {},
   "outputs": [
    {
     "name": "stdout",
     "output_type": "stream",
     "text": [
      "for model seq2seq:\n",
      "False: 13934\n",
      "True: 124402\n",
      "accuracy: 0.8993\n"
     ]
    }
   ],
   "source": [
    "accuracy('seq2seq', data)"
   ]
  },
  {
   "cell_type": "code",
   "execution_count": 26,
   "metadata": {},
   "outputs": [
    {
     "name": "stdout",
     "output_type": "stream",
     "text": [
      "for model pymorphy:\n",
      "False: 6838\n",
      "True: 131498\n",
      "accuracy: 0.9506\n"
     ]
    }
   ],
   "source": [
    "accuracy('pymorphy',data)"
   ]
  },
  {
   "cell_type": "code",
   "execution_count": 27,
   "metadata": {
    "scrolled": true
   },
   "outputs": [
    {
     "name": "stdout",
     "output_type": "stream",
     "text": [
      "for model seq2seq:\n",
      "False: 9496\n",
      "True: 116900\n",
      "accuracy: 0.9249\n"
     ]
    }
   ],
   "source": [
    "accuracy('seq2seq', data_filtered)"
   ]
  },
  {
   "cell_type": "code",
   "execution_count": 28,
   "metadata": {
    "scrolled": true
   },
   "outputs": [
    {
     "name": "stdout",
     "output_type": "stream",
     "text": [
      "for model pymorphy:\n",
      "False: 2479\n",
      "True: 123917\n",
      "accuracy: 0.9804\n"
     ]
    }
   ],
   "source": [
    "accuracy('pymorphy', data_filtered)"
   ]
  },
  {
   "cell_type": "code",
   "execution_count": null,
   "metadata": {},
   "outputs": [],
   "source": []
  }
 ],
 "metadata": {
  "kernelspec": {
   "display_name": "Python 3",
   "language": "python",
   "name": "python3"
  },
  "language_info": {
   "codemirror_mode": {
    "name": "ipython",
    "version": 3
   },
   "file_extension": ".py",
   "mimetype": "text/x-python",
   "name": "python",
   "nbconvert_exporter": "python",
   "pygments_lexer": "ipython3",
   "version": "3.5.0"
  }
 },
 "nbformat": 4,
 "nbformat_minor": 2
}
